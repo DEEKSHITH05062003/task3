{
 "cells": [
  {
   "cell_type": "markdown",
   "metadata": {
    "id": "P4nKriinP8Ay"
   },
   "source": [
    "**DATA CLEANING ON NEW YORK CITY AIRBNB LISTINGS**\n",
    "\n",
    "\n",
    "\n"
   ]
  },
  {
   "cell_type": "code",
   "execution_count": 3,
   "metadata": {
    "colab": {
     "base_uri": "https://localhost:8080/"
    },
    "id": "hU0Ad03JmXf8",
    "outputId": "da2fddd3-8a31-48d2-ea93-0b14d458cdeb"
   },
   "outputs": [
    {
     "name": "stdout",
     "output_type": "stream",
     "text": [
      "Requirement already satisfied: nltk in c:\\users\\anike\\anaconda3\\lib\\site-packages (3.8.1)\n",
      "Requirement already satisfied: click in c:\\users\\anike\\anaconda3\\lib\\site-packages (from nltk) (8.1.7)\n",
      "Requirement already satisfied: joblib in c:\\users\\anike\\anaconda3\\lib\\site-packages (from nltk) (1.4.2)\n",
      "Requirement already satisfied: regex>=2021.8.3 in c:\\users\\anike\\anaconda3\\lib\\site-packages (from nltk) (2023.10.3)\n",
      "Requirement already satisfied: tqdm in c:\\users\\anike\\anaconda3\\lib\\site-packages (from nltk) (4.66.4)\n",
      "Requirement already satisfied: colorama in c:\\users\\anike\\anaconda3\\lib\\site-packages (from click->nltk) (0.4.6)\n"
     ]
    },
    {
     "name": "stderr",
     "output_type": "stream",
     "text": [
      "[nltk_data] Downloading package punkt to\n",
      "[nltk_data]     C:\\Users\\anike\\AppData\\Roaming\\nltk_data...\n",
      "[nltk_data]   Package punkt is already up-to-date!\n",
      "[nltk_data] Downloading package stopwords to\n",
      "[nltk_data]     C:\\Users\\anike\\AppData\\Roaming\\nltk_data...\n",
      "[nltk_data]   Package stopwords is already up-to-date!\n",
      "[nltk_data] Downloading package wordnet to\n",
      "[nltk_data]     C:\\Users\\anike\\AppData\\Roaming\\nltk_data...\n",
      "[nltk_data]   Package wordnet is already up-to-date!\n"
     ]
    }
   ],
   "source": [
    "import pandas as pd\n",
    "from scipy.stats import zscore\n",
    "!pip install nltk\n",
    "import nltk\n",
    "from nltk.corpus import stopwords\n",
    "from nltk.tokenize import word_tokenize\n",
    "from sklearn.preprocessing import LabelEncoder\n",
    "from sklearn.preprocessing import MinMaxScaler\n",
    "nltk.download(\"punkt\")\n",
    "nltk.download(\"stopwords\")\n",
    "nltk.download(\"wordnet\")\n",
    "import string"
   ]
  },
  {
   "cell_type": "code",
   "execution_count": 8,
   "metadata": {
    "id": "OMaKGWd-mbqy"
   },
   "outputs": [],
   "source": [
    "df=pd.read_csv(\"AB_NYC_2019.csv\")"
   ]
  },
  {
   "cell_type": "code",
   "execution_count": 9,
   "metadata": {
    "colab": {
     "base_uri": "https://localhost:8080/",
     "height": 417
    },
    "id": "yKt2-_FvnoJT",
    "outputId": "fed2af01-ce29-409e-de8e-c5a24012c30c"
   },
   "outputs": [
    {
     "data": {
      "text/html": [
       "<div>\n",
       "<style scoped>\n",
       "    .dataframe tbody tr th:only-of-type {\n",
       "        vertical-align: middle;\n",
       "    }\n",
       "\n",
       "    .dataframe tbody tr th {\n",
       "        vertical-align: top;\n",
       "    }\n",
       "\n",
       "    .dataframe thead th {\n",
       "        text-align: right;\n",
       "    }\n",
       "</style>\n",
       "<table border=\"1\" class=\"dataframe\">\n",
       "  <thead>\n",
       "    <tr style=\"text-align: right;\">\n",
       "      <th></th>\n",
       "      <th>id</th>\n",
       "      <th>name</th>\n",
       "      <th>host_id</th>\n",
       "      <th>host_name</th>\n",
       "      <th>neighbourhood_group</th>\n",
       "      <th>neighbourhood</th>\n",
       "      <th>latitude</th>\n",
       "      <th>longitude</th>\n",
       "      <th>room_type</th>\n",
       "      <th>price</th>\n",
       "      <th>minimum_nights</th>\n",
       "      <th>number_of_reviews</th>\n",
       "      <th>last_review</th>\n",
       "      <th>reviews_per_month</th>\n",
       "      <th>calculated_host_listings_count</th>\n",
       "      <th>availability_365</th>\n",
       "    </tr>\n",
       "  </thead>\n",
       "  <tbody>\n",
       "    <tr>\n",
       "      <th>0</th>\n",
       "      <td>2539</td>\n",
       "      <td>Clean &amp; quiet apt home by the park</td>\n",
       "      <td>2787</td>\n",
       "      <td>John</td>\n",
       "      <td>Brooklyn</td>\n",
       "      <td>Kensington</td>\n",
       "      <td>40.64749</td>\n",
       "      <td>-73.97237</td>\n",
       "      <td>Private room</td>\n",
       "      <td>149</td>\n",
       "      <td>1</td>\n",
       "      <td>9</td>\n",
       "      <td>2018-10-19</td>\n",
       "      <td>0.21</td>\n",
       "      <td>6</td>\n",
       "      <td>365</td>\n",
       "    </tr>\n",
       "    <tr>\n",
       "      <th>1</th>\n",
       "      <td>2595</td>\n",
       "      <td>Skylit Midtown Castle</td>\n",
       "      <td>2845</td>\n",
       "      <td>Jennifer</td>\n",
       "      <td>Manhattan</td>\n",
       "      <td>Midtown</td>\n",
       "      <td>40.75362</td>\n",
       "      <td>-73.98377</td>\n",
       "      <td>Entire home/apt</td>\n",
       "      <td>225</td>\n",
       "      <td>1</td>\n",
       "      <td>45</td>\n",
       "      <td>2019-05-21</td>\n",
       "      <td>0.38</td>\n",
       "      <td>2</td>\n",
       "      <td>355</td>\n",
       "    </tr>\n",
       "    <tr>\n",
       "      <th>2</th>\n",
       "      <td>3647</td>\n",
       "      <td>THE VILLAGE OF HARLEM....NEW YORK !</td>\n",
       "      <td>4632</td>\n",
       "      <td>Elisabeth</td>\n",
       "      <td>Manhattan</td>\n",
       "      <td>Harlem</td>\n",
       "      <td>40.80902</td>\n",
       "      <td>-73.94190</td>\n",
       "      <td>Private room</td>\n",
       "      <td>150</td>\n",
       "      <td>3</td>\n",
       "      <td>0</td>\n",
       "      <td>NaN</td>\n",
       "      <td>NaN</td>\n",
       "      <td>1</td>\n",
       "      <td>365</td>\n",
       "    </tr>\n",
       "    <tr>\n",
       "      <th>3</th>\n",
       "      <td>3831</td>\n",
       "      <td>Cozy Entire Floor of Brownstone</td>\n",
       "      <td>4869</td>\n",
       "      <td>LisaRoxanne</td>\n",
       "      <td>Brooklyn</td>\n",
       "      <td>Clinton Hill</td>\n",
       "      <td>40.68514</td>\n",
       "      <td>-73.95976</td>\n",
       "      <td>Entire home/apt</td>\n",
       "      <td>89</td>\n",
       "      <td>1</td>\n",
       "      <td>270</td>\n",
       "      <td>2019-07-05</td>\n",
       "      <td>4.64</td>\n",
       "      <td>1</td>\n",
       "      <td>194</td>\n",
       "    </tr>\n",
       "    <tr>\n",
       "      <th>4</th>\n",
       "      <td>5022</td>\n",
       "      <td>Entire Apt: Spacious Studio/Loft by central park</td>\n",
       "      <td>7192</td>\n",
       "      <td>Laura</td>\n",
       "      <td>Manhattan</td>\n",
       "      <td>East Harlem</td>\n",
       "      <td>40.79851</td>\n",
       "      <td>-73.94399</td>\n",
       "      <td>Entire home/apt</td>\n",
       "      <td>80</td>\n",
       "      <td>10</td>\n",
       "      <td>9</td>\n",
       "      <td>2018-11-19</td>\n",
       "      <td>0.10</td>\n",
       "      <td>1</td>\n",
       "      <td>0</td>\n",
       "    </tr>\n",
       "  </tbody>\n",
       "</table>\n",
       "</div>"
      ],
      "text/plain": [
       "     id                                              name  host_id   \n",
       "0  2539                Clean & quiet apt home by the park     2787  \\\n",
       "1  2595                             Skylit Midtown Castle     2845   \n",
       "2  3647               THE VILLAGE OF HARLEM....NEW YORK !     4632   \n",
       "3  3831                   Cozy Entire Floor of Brownstone     4869   \n",
       "4  5022  Entire Apt: Spacious Studio/Loft by central park     7192   \n",
       "\n",
       "     host_name neighbourhood_group neighbourhood  latitude  longitude   \n",
       "0         John            Brooklyn    Kensington  40.64749  -73.97237  \\\n",
       "1     Jennifer           Manhattan       Midtown  40.75362  -73.98377   \n",
       "2    Elisabeth           Manhattan        Harlem  40.80902  -73.94190   \n",
       "3  LisaRoxanne            Brooklyn  Clinton Hill  40.68514  -73.95976   \n",
       "4        Laura           Manhattan   East Harlem  40.79851  -73.94399   \n",
       "\n",
       "         room_type  price  minimum_nights  number_of_reviews last_review   \n",
       "0     Private room    149               1                  9  2018-10-19  \\\n",
       "1  Entire home/apt    225               1                 45  2019-05-21   \n",
       "2     Private room    150               3                  0         NaN   \n",
       "3  Entire home/apt     89               1                270  2019-07-05   \n",
       "4  Entire home/apt     80              10                  9  2018-11-19   \n",
       "\n",
       "   reviews_per_month  calculated_host_listings_count  availability_365  \n",
       "0               0.21                               6               365  \n",
       "1               0.38                               2               355  \n",
       "2                NaN                               1               365  \n",
       "3               4.64                               1               194  \n",
       "4               0.10                               1                 0  "
      ]
     },
     "execution_count": 9,
     "metadata": {},
     "output_type": "execute_result"
    }
   ],
   "source": [
    "df.head()"
   ]
  },
  {
   "cell_type": "code",
   "execution_count": 10,
   "metadata": {
    "colab": {
     "base_uri": "https://localhost:8080/"
    },
    "id": "nUUZYHU_rL_Z",
    "outputId": "21387303-188e-4c3a-a4d8-c46e9a34d0cb"
   },
   "outputs": [
    {
     "data": {
      "text/plain": [
       "Index(['id', 'name', 'host_id', 'host_name', 'neighbourhood_group',\n",
       "       'neighbourhood', 'latitude', 'longitude', 'room_type', 'price',\n",
       "       'minimum_nights', 'number_of_reviews', 'last_review',\n",
       "       'reviews_per_month', 'calculated_host_listings_count',\n",
       "       'availability_365'],\n",
       "      dtype='object')"
      ]
     },
     "execution_count": 10,
     "metadata": {},
     "output_type": "execute_result"
    }
   ],
   "source": [
    "df.columns"
   ]
  },
  {
   "cell_type": "code",
   "execution_count": 11,
   "metadata": {
    "colab": {
     "base_uri": "https://localhost:8080/"
    },
    "id": "Q0Y0nEO0vWXI",
    "outputId": "60f302cd-21d6-4a6b-f2ee-b89be80a9f53"
   },
   "outputs": [
    {
     "data": {
      "text/plain": [
       "(48895, 16)"
      ]
     },
     "execution_count": 11,
     "metadata": {},
     "output_type": "execute_result"
    }
   ],
   "source": [
    "df.shape"
   ]
  },
  {
   "cell_type": "code",
   "execution_count": 12,
   "metadata": {
    "colab": {
     "base_uri": "https://localhost:8080/"
    },
    "id": "RhmDOrHvs49a",
    "outputId": "4cba7577-e1e8-4e86-b6da-aad9d117b55f"
   },
   "outputs": [
    {
     "data": {
      "text/plain": [
       "id                                    0\n",
       "name                                 16\n",
       "host_id                               0\n",
       "host_name                            21\n",
       "neighbourhood_group                   0\n",
       "neighbourhood                         0\n",
       "latitude                              0\n",
       "longitude                             0\n",
       "room_type                             0\n",
       "price                                 0\n",
       "minimum_nights                        0\n",
       "number_of_reviews                     0\n",
       "last_review                       10052\n",
       "reviews_per_month                 10052\n",
       "calculated_host_listings_count        0\n",
       "availability_365                      0\n",
       "dtype: int64"
      ]
     },
     "execution_count": 12,
     "metadata": {},
     "output_type": "execute_result"
    }
   ],
   "source": [
    "df.isnull().sum()"
   ]
  },
  {
   "cell_type": "code",
   "execution_count": 13,
   "metadata": {
    "colab": {
     "base_uri": "https://localhost:8080/"
    },
    "id": "GEMwAGyVxqXF",
    "outputId": "adfff1da-528c-4ac8-b393-bf8ef2a06ec0"
   },
   "outputs": [
    {
     "data": {
      "text/plain": [
       "id                                    0\n",
       "name                                 16\n",
       "host_id                               0\n",
       "host_name                            21\n",
       "neighbourhood_group                   0\n",
       "neighbourhood                         0\n",
       "latitude                              0\n",
       "longitude                             0\n",
       "room_type                             0\n",
       "price                                 0\n",
       "minimum_nights                        0\n",
       "number_of_reviews                     0\n",
       "last_review                       10052\n",
       "reviews_per_month                 10052\n",
       "calculated_host_listings_count        0\n",
       "availability_365                      0\n",
       "dtype: int64"
      ]
     },
     "execution_count": 13,
     "metadata": {},
     "output_type": "execute_result"
    }
   ],
   "source": [
    "df.isna().sum()"
   ]
  },
  {
   "cell_type": "code",
   "execution_count": 14,
   "metadata": {
    "colab": {
     "base_uri": "https://localhost:8080/"
    },
    "id": "2oJlUsYevTmd",
    "outputId": "978b4c92-51a9-44da-d243-78e33c188bd8"
   },
   "outputs": [
    {
     "name": "stdout",
     "output_type": "stream",
     "text": [
      "<class 'pandas.core.frame.DataFrame'>\n",
      "RangeIndex: 48895 entries, 0 to 48894\n",
      "Data columns (total 16 columns):\n",
      " #   Column                          Non-Null Count  Dtype  \n",
      "---  ------                          --------------  -----  \n",
      " 0   id                              48895 non-null  int64  \n",
      " 1   name                            48879 non-null  object \n",
      " 2   host_id                         48895 non-null  int64  \n",
      " 3   host_name                       48874 non-null  object \n",
      " 4   neighbourhood_group             48895 non-null  object \n",
      " 5   neighbourhood                   48895 non-null  object \n",
      " 6   latitude                        48895 non-null  float64\n",
      " 7   longitude                       48895 non-null  float64\n",
      " 8   room_type                       48895 non-null  object \n",
      " 9   price                           48895 non-null  int64  \n",
      " 10  minimum_nights                  48895 non-null  int64  \n",
      " 11  number_of_reviews               48895 non-null  int64  \n",
      " 12  last_review                     38843 non-null  object \n",
      " 13  reviews_per_month               38843 non-null  float64\n",
      " 14  calculated_host_listings_count  48895 non-null  int64  \n",
      " 15  availability_365                48895 non-null  int64  \n",
      "dtypes: float64(3), int64(7), object(6)\n",
      "memory usage: 6.0+ MB\n"
     ]
    }
   ],
   "source": [
    "df.info()"
   ]
  },
  {
   "cell_type": "code",
   "execution_count": 15,
   "metadata": {
    "colab": {
     "base_uri": "https://localhost:8080/"
    },
    "id": "xcpesi9GwtbH",
    "outputId": "65a39447-5a19-4655-b6c8-c29c4281a605"
   },
   "outputs": [
    {
     "data": {
      "text/plain": [
       "0"
      ]
     },
     "execution_count": 15,
     "metadata": {},
     "output_type": "execute_result"
    }
   ],
   "source": [
    "df.duplicated().sum()"
   ]
  },
  {
   "cell_type": "code",
   "execution_count": 16,
   "metadata": {
    "colab": {
     "base_uri": "https://localhost:8080/",
     "height": 320
    },
    "id": "Wzo8hrIFwyuP",
    "outputId": "b386c6e3-35d1-4110-ad95-d7e2f9c06d05"
   },
   "outputs": [
    {
     "data": {
      "text/html": [
       "<div>\n",
       "<style scoped>\n",
       "    .dataframe tbody tr th:only-of-type {\n",
       "        vertical-align: middle;\n",
       "    }\n",
       "\n",
       "    .dataframe tbody tr th {\n",
       "        vertical-align: top;\n",
       "    }\n",
       "\n",
       "    .dataframe thead th {\n",
       "        text-align: right;\n",
       "    }\n",
       "</style>\n",
       "<table border=\"1\" class=\"dataframe\">\n",
       "  <thead>\n",
       "    <tr style=\"text-align: right;\">\n",
       "      <th></th>\n",
       "      <th>id</th>\n",
       "      <th>host_id</th>\n",
       "      <th>latitude</th>\n",
       "      <th>longitude</th>\n",
       "      <th>price</th>\n",
       "      <th>minimum_nights</th>\n",
       "      <th>number_of_reviews</th>\n",
       "      <th>reviews_per_month</th>\n",
       "      <th>calculated_host_listings_count</th>\n",
       "      <th>availability_365</th>\n",
       "    </tr>\n",
       "  </thead>\n",
       "  <tbody>\n",
       "    <tr>\n",
       "      <th>count</th>\n",
       "      <td>4.889500e+04</td>\n",
       "      <td>4.889500e+04</td>\n",
       "      <td>48895.000000</td>\n",
       "      <td>48895.000000</td>\n",
       "      <td>48895.000000</td>\n",
       "      <td>48895.000000</td>\n",
       "      <td>48895.000000</td>\n",
       "      <td>38843.000000</td>\n",
       "      <td>48895.000000</td>\n",
       "      <td>48895.000000</td>\n",
       "    </tr>\n",
       "    <tr>\n",
       "      <th>mean</th>\n",
       "      <td>1.901714e+07</td>\n",
       "      <td>6.762001e+07</td>\n",
       "      <td>40.728949</td>\n",
       "      <td>-73.952170</td>\n",
       "      <td>152.720687</td>\n",
       "      <td>7.029962</td>\n",
       "      <td>23.274466</td>\n",
       "      <td>1.373221</td>\n",
       "      <td>7.143982</td>\n",
       "      <td>112.781327</td>\n",
       "    </tr>\n",
       "    <tr>\n",
       "      <th>std</th>\n",
       "      <td>1.098311e+07</td>\n",
       "      <td>7.861097e+07</td>\n",
       "      <td>0.054530</td>\n",
       "      <td>0.046157</td>\n",
       "      <td>240.154170</td>\n",
       "      <td>20.510550</td>\n",
       "      <td>44.550582</td>\n",
       "      <td>1.680442</td>\n",
       "      <td>32.952519</td>\n",
       "      <td>131.622289</td>\n",
       "    </tr>\n",
       "    <tr>\n",
       "      <th>min</th>\n",
       "      <td>2.539000e+03</td>\n",
       "      <td>2.438000e+03</td>\n",
       "      <td>40.499790</td>\n",
       "      <td>-74.244420</td>\n",
       "      <td>0.000000</td>\n",
       "      <td>1.000000</td>\n",
       "      <td>0.000000</td>\n",
       "      <td>0.010000</td>\n",
       "      <td>1.000000</td>\n",
       "      <td>0.000000</td>\n",
       "    </tr>\n",
       "    <tr>\n",
       "      <th>25%</th>\n",
       "      <td>9.471945e+06</td>\n",
       "      <td>7.822033e+06</td>\n",
       "      <td>40.690100</td>\n",
       "      <td>-73.983070</td>\n",
       "      <td>69.000000</td>\n",
       "      <td>1.000000</td>\n",
       "      <td>1.000000</td>\n",
       "      <td>0.190000</td>\n",
       "      <td>1.000000</td>\n",
       "      <td>0.000000</td>\n",
       "    </tr>\n",
       "    <tr>\n",
       "      <th>50%</th>\n",
       "      <td>1.967728e+07</td>\n",
       "      <td>3.079382e+07</td>\n",
       "      <td>40.723070</td>\n",
       "      <td>-73.955680</td>\n",
       "      <td>106.000000</td>\n",
       "      <td>3.000000</td>\n",
       "      <td>5.000000</td>\n",
       "      <td>0.720000</td>\n",
       "      <td>1.000000</td>\n",
       "      <td>45.000000</td>\n",
       "    </tr>\n",
       "    <tr>\n",
       "      <th>75%</th>\n",
       "      <td>2.915218e+07</td>\n",
       "      <td>1.074344e+08</td>\n",
       "      <td>40.763115</td>\n",
       "      <td>-73.936275</td>\n",
       "      <td>175.000000</td>\n",
       "      <td>5.000000</td>\n",
       "      <td>24.000000</td>\n",
       "      <td>2.020000</td>\n",
       "      <td>2.000000</td>\n",
       "      <td>227.000000</td>\n",
       "    </tr>\n",
       "    <tr>\n",
       "      <th>max</th>\n",
       "      <td>3.648724e+07</td>\n",
       "      <td>2.743213e+08</td>\n",
       "      <td>40.913060</td>\n",
       "      <td>-73.712990</td>\n",
       "      <td>10000.000000</td>\n",
       "      <td>1250.000000</td>\n",
       "      <td>629.000000</td>\n",
       "      <td>58.500000</td>\n",
       "      <td>327.000000</td>\n",
       "      <td>365.000000</td>\n",
       "    </tr>\n",
       "  </tbody>\n",
       "</table>\n",
       "</div>"
      ],
      "text/plain": [
       "                 id       host_id      latitude     longitude         price   \n",
       "count  4.889500e+04  4.889500e+04  48895.000000  48895.000000  48895.000000  \\\n",
       "mean   1.901714e+07  6.762001e+07     40.728949    -73.952170    152.720687   \n",
       "std    1.098311e+07  7.861097e+07      0.054530      0.046157    240.154170   \n",
       "min    2.539000e+03  2.438000e+03     40.499790    -74.244420      0.000000   \n",
       "25%    9.471945e+06  7.822033e+06     40.690100    -73.983070     69.000000   \n",
       "50%    1.967728e+07  3.079382e+07     40.723070    -73.955680    106.000000   \n",
       "75%    2.915218e+07  1.074344e+08     40.763115    -73.936275    175.000000   \n",
       "max    3.648724e+07  2.743213e+08     40.913060    -73.712990  10000.000000   \n",
       "\n",
       "       minimum_nights  number_of_reviews  reviews_per_month   \n",
       "count    48895.000000       48895.000000       38843.000000  \\\n",
       "mean         7.029962          23.274466           1.373221   \n",
       "std         20.510550          44.550582           1.680442   \n",
       "min          1.000000           0.000000           0.010000   \n",
       "25%          1.000000           1.000000           0.190000   \n",
       "50%          3.000000           5.000000           0.720000   \n",
       "75%          5.000000          24.000000           2.020000   \n",
       "max       1250.000000         629.000000          58.500000   \n",
       "\n",
       "       calculated_host_listings_count  availability_365  \n",
       "count                    48895.000000      48895.000000  \n",
       "mean                         7.143982        112.781327  \n",
       "std                         32.952519        131.622289  \n",
       "min                          1.000000          0.000000  \n",
       "25%                          1.000000          0.000000  \n",
       "50%                          1.000000         45.000000  \n",
       "75%                          2.000000        227.000000  \n",
       "max                        327.000000        365.000000  "
      ]
     },
     "execution_count": 16,
     "metadata": {},
     "output_type": "execute_result"
    }
   ],
   "source": [
    "df.describe()"
   ]
  },
  {
   "cell_type": "markdown",
   "metadata": {
    "id": "NPUChioYcw2v"
   },
   "source": [
    "From this section of initial data exploration I have observed the following points:\n",
    "1. name, neighbourhood group, last_review and reviews_per_month columns have NaN values.\n",
    "2. There are no duplicate values in the dataset"
   ]
  },
  {
   "cell_type": "markdown",
   "metadata": {
    "id": "YVTHu1BQTcX7"
   },
   "source": [
    "**IMPUTATION**"
   ]
  },
  {
   "cell_type": "code",
   "execution_count": 17,
   "metadata": {
    "colab": {
     "base_uri": "https://localhost:8080/"
    },
    "id": "z13qZk85xznH",
    "outputId": "63221994-04d3-43d2-e158-338ffccee28f"
   },
   "outputs": [
    {
     "data": {
      "text/plain": [
       "0    Hillside Hotel\n",
       "Name: name, dtype: object"
      ]
     },
     "execution_count": 17,
     "metadata": {},
     "output_type": "execute_result"
    }
   ],
   "source": [
    "df['name'].mode()"
   ]
  },
  {
   "cell_type": "code",
   "execution_count": 18,
   "metadata": {
    "id": "dBIg8rViw2KB"
   },
   "outputs": [],
   "source": [
    "df['name']=df['name'].fillna(\"Hillside Hotel\")"
   ]
  },
  {
   "cell_type": "code",
   "execution_count": 19,
   "metadata": {
    "colab": {
     "base_uri": "https://localhost:8080/"
    },
    "id": "8YMLCpnsxa7w",
    "outputId": "d8bc28ad-38c2-459d-de8f-d4f24974c413"
   },
   "outputs": [
    {
     "data": {
      "text/plain": [
       "id                                    0\n",
       "name                                  0\n",
       "host_id                               0\n",
       "host_name                            21\n",
       "neighbourhood_group                   0\n",
       "neighbourhood                         0\n",
       "latitude                              0\n",
       "longitude                             0\n",
       "room_type                             0\n",
       "price                                 0\n",
       "minimum_nights                        0\n",
       "number_of_reviews                     0\n",
       "last_review                       10052\n",
       "reviews_per_month                 10052\n",
       "calculated_host_listings_count        0\n",
       "availability_365                      0\n",
       "dtype: int64"
      ]
     },
     "execution_count": 19,
     "metadata": {},
     "output_type": "execute_result"
    }
   ],
   "source": [
    "df.isnull().sum()"
   ]
  },
  {
   "cell_type": "code",
   "execution_count": 20,
   "metadata": {
    "colab": {
     "base_uri": "https://localhost:8080/"
    },
    "id": "n6Zj4Dsexddi",
    "outputId": "2622aca1-ccb8-4ef0-a818-f58b66d04e56"
   },
   "outputs": [
    {
     "data": {
      "text/plain": [
       "0    Michael\n",
       "Name: host_name, dtype: object"
      ]
     },
     "execution_count": 20,
     "metadata": {},
     "output_type": "execute_result"
    }
   ],
   "source": [
    "df['host_name'].mode()"
   ]
  },
  {
   "cell_type": "code",
   "execution_count": 21,
   "metadata": {
    "id": "e_jRX9tAx9bg"
   },
   "outputs": [],
   "source": [
    "df['host_name']=df['host_name'].fillna(\"Michael\")"
   ]
  },
  {
   "cell_type": "code",
   "execution_count": 22,
   "metadata": {
    "colab": {
     "base_uri": "https://localhost:8080/"
    },
    "id": "-TprhmiuyJNW",
    "outputId": "dc31f2bb-5555-40f8-c54b-ae0c20fe7073"
   },
   "outputs": [
    {
     "data": {
      "text/plain": [
       "0    2019-06-23\n",
       "Name: last_review, dtype: object"
      ]
     },
     "execution_count": 22,
     "metadata": {},
     "output_type": "execute_result"
    }
   ],
   "source": [
    "df['last_review'].mode()"
   ]
  },
  {
   "cell_type": "code",
   "execution_count": 23,
   "metadata": {
    "id": "mPvEWIb7ySzd"
   },
   "outputs": [],
   "source": [
    "df['last_review']=df['last_review'].fillna(\"2019-06-23\")"
   ]
  },
  {
   "cell_type": "code",
   "execution_count": 24,
   "metadata": {
    "colab": {
     "base_uri": "https://localhost:8080/"
    },
    "id": "IcS7CiO9yeDp",
    "outputId": "0c9396e9-1b5f-4a27-c2ab-f57c19f98ad4"
   },
   "outputs": [
    {
     "data": {
      "text/plain": [
       "1.3732214298586618"
      ]
     },
     "execution_count": 24,
     "metadata": {},
     "output_type": "execute_result"
    }
   ],
   "source": [
    "df['reviews_per_month'].mean()"
   ]
  },
  {
   "cell_type": "code",
   "execution_count": 25,
   "metadata": {
    "id": "YUTPU-6Dy2Ij"
   },
   "outputs": [],
   "source": [
    "df['reviews_per_month']=df['reviews_per_month'].fillna(1.373)"
   ]
  },
  {
   "cell_type": "code",
   "execution_count": 26,
   "metadata": {
    "colab": {
     "base_uri": "https://localhost:8080/"
    },
    "id": "-5yMsNeFy7d4",
    "outputId": "d2dd688a-0893-4aa5-9722-1b783cbc4e73"
   },
   "outputs": [
    {
     "data": {
      "text/plain": [
       "id                                0\n",
       "name                              0\n",
       "host_id                           0\n",
       "host_name                         0\n",
       "neighbourhood_group               0\n",
       "neighbourhood                     0\n",
       "latitude                          0\n",
       "longitude                         0\n",
       "room_type                         0\n",
       "price                             0\n",
       "minimum_nights                    0\n",
       "number_of_reviews                 0\n",
       "last_review                       0\n",
       "reviews_per_month                 0\n",
       "calculated_host_listings_count    0\n",
       "availability_365                  0\n",
       "dtype: int64"
      ]
     },
     "execution_count": 26,
     "metadata": {},
     "output_type": "execute_result"
    }
   ],
   "source": [
    "df.isnull().sum()"
   ]
  },
  {
   "cell_type": "markdown",
   "metadata": {
    "id": "vzEWibR6de4T"
   },
   "source": [
    "1. name, neighbourhood_group, last_review and reviews_per_month column has several NaN values before this section\n",
    "2. I imputed the NaN values in these columns by making use of statistical functions such as mean and mode"
   ]
  },
  {
   "cell_type": "markdown",
   "metadata": {
    "id": "xCBM_HXBT0JI"
   },
   "source": [
    "**DATE PARSING**"
   ]
  },
  {
   "cell_type": "code",
   "execution_count": 27,
   "metadata": {
    "id": "Jw9AwDUYzEB4"
   },
   "outputs": [],
   "source": [
    "try:\n",
    "  df['last_review'] = pd.to_datetime(df['last_review'], format='%d/%m/%Y')\n",
    "except ValueError:\n",
    "  df['last_review'] = pd.to_datetime(df['last_review'],errors='coerce')"
   ]
  },
  {
   "cell_type": "code",
   "execution_count": 28,
   "metadata": {
    "colab": {
     "base_uri": "https://localhost:8080/"
    },
    "id": "Ge9qZKmtzOqW",
    "outputId": "90e9390c-28cc-4d2c-f995-80f94611d8cc"
   },
   "outputs": [
    {
     "data": {
      "text/plain": [
       "0       2018-10-19\n",
       "1       2019-05-21\n",
       "2       2019-06-23\n",
       "3       2019-07-05\n",
       "4       2018-11-19\n",
       "           ...    \n",
       "48890   2019-06-23\n",
       "48891   2019-06-23\n",
       "48892   2019-06-23\n",
       "48893   2019-06-23\n",
       "48894   2019-06-23\n",
       "Name: last_review, Length: 48895, dtype: datetime64[ns]"
      ]
     },
     "execution_count": 28,
     "metadata": {},
     "output_type": "execute_result"
    }
   ],
   "source": [
    "df['last_review']"
   ]
  },
  {
   "cell_type": "markdown",
   "metadata": {
    "id": "1TaLhcPsd5tb"
   },
   "source": [
    "As a precaution, I brought the dates contained in the last_review column into a common format"
   ]
  },
  {
   "cell_type": "markdown",
   "metadata": {
    "id": "NWtKWiofT_jf"
   },
   "source": [
    "**OUTLIER DETECTION AND HANDLING**"
   ]
  },
  {
   "cell_type": "code",
   "execution_count": 29,
   "metadata": {
    "id": "Gq3ZC3kN3f8N"
   },
   "outputs": [],
   "source": [
    "df['z_latitude']=0.0"
   ]
  },
  {
   "cell_type": "code",
   "execution_count": 30,
   "metadata": {
    "id": "cL-C1ltD4A97"
   },
   "outputs": [],
   "source": [
    "df['z_latitude']=zscore(df['latitude'])"
   ]
  },
  {
   "cell_type": "code",
   "execution_count": 31,
   "metadata": {
    "id": "p2cCeSnfULTF"
   },
   "outputs": [],
   "source": [
    "condition_to_drop = (df['z_latitude'] > 3.0)\n",
    "df = df[~condition_to_drop]\n",
    "condition_to_drop = (df['z_latitude'] < -3.0)\n",
    "df = df[~condition_to_drop]"
   ]
  },
  {
   "cell_type": "code",
   "execution_count": 32,
   "metadata": {
    "colab": {
     "base_uri": "https://localhost:8080/",
     "height": 73
    },
    "id": "hy-tZS--UO1X",
    "outputId": "89a640d7-d6b3-43f5-cc70-63e9b7e40d27"
   },
   "outputs": [
    {
     "data": {
      "text/html": [
       "<div>\n",
       "<style scoped>\n",
       "    .dataframe tbody tr th:only-of-type {\n",
       "        vertical-align: middle;\n",
       "    }\n",
       "\n",
       "    .dataframe tbody tr th {\n",
       "        vertical-align: top;\n",
       "    }\n",
       "\n",
       "    .dataframe thead th {\n",
       "        text-align: right;\n",
       "    }\n",
       "</style>\n",
       "<table border=\"1\" class=\"dataframe\">\n",
       "  <thead>\n",
       "    <tr style=\"text-align: right;\">\n",
       "      <th></th>\n",
       "      <th>id</th>\n",
       "      <th>name</th>\n",
       "      <th>host_id</th>\n",
       "      <th>host_name</th>\n",
       "      <th>neighbourhood_group</th>\n",
       "      <th>neighbourhood</th>\n",
       "      <th>latitude</th>\n",
       "      <th>longitude</th>\n",
       "      <th>room_type</th>\n",
       "      <th>price</th>\n",
       "      <th>minimum_nights</th>\n",
       "      <th>number_of_reviews</th>\n",
       "      <th>last_review</th>\n",
       "      <th>reviews_per_month</th>\n",
       "      <th>calculated_host_listings_count</th>\n",
       "      <th>availability_365</th>\n",
       "      <th>z_latitude</th>\n",
       "    </tr>\n",
       "  </thead>\n",
       "  <tbody>\n",
       "  </tbody>\n",
       "</table>\n",
       "</div>"
      ],
      "text/plain": [
       "Empty DataFrame\n",
       "Columns: [id, name, host_id, host_name, neighbourhood_group, neighbourhood, latitude, longitude, room_type, price, minimum_nights, number_of_reviews, last_review, reviews_per_month, calculated_host_listings_count, availability_365, z_latitude]\n",
       "Index: []"
      ]
     },
     "execution_count": 32,
     "metadata": {},
     "output_type": "execute_result"
    }
   ],
   "source": [
    "df[(df['z_latitude'] < -3.0)]"
   ]
  },
  {
   "cell_type": "code",
   "execution_count": 33,
   "metadata": {
    "colab": {
     "base_uri": "https://localhost:8080/",
     "height": 73
    },
    "id": "w9C9vHeoUbPY",
    "outputId": "ca25af47-e64c-4583-d376-2010d41bf1ea"
   },
   "outputs": [
    {
     "data": {
      "text/html": [
       "<div>\n",
       "<style scoped>\n",
       "    .dataframe tbody tr th:only-of-type {\n",
       "        vertical-align: middle;\n",
       "    }\n",
       "\n",
       "    .dataframe tbody tr th {\n",
       "        vertical-align: top;\n",
       "    }\n",
       "\n",
       "    .dataframe thead th {\n",
       "        text-align: right;\n",
       "    }\n",
       "</style>\n",
       "<table border=\"1\" class=\"dataframe\">\n",
       "  <thead>\n",
       "    <tr style=\"text-align: right;\">\n",
       "      <th></th>\n",
       "      <th>id</th>\n",
       "      <th>name</th>\n",
       "      <th>host_id</th>\n",
       "      <th>host_name</th>\n",
       "      <th>neighbourhood_group</th>\n",
       "      <th>neighbourhood</th>\n",
       "      <th>latitude</th>\n",
       "      <th>longitude</th>\n",
       "      <th>room_type</th>\n",
       "      <th>price</th>\n",
       "      <th>minimum_nights</th>\n",
       "      <th>number_of_reviews</th>\n",
       "      <th>last_review</th>\n",
       "      <th>reviews_per_month</th>\n",
       "      <th>calculated_host_listings_count</th>\n",
       "      <th>availability_365</th>\n",
       "      <th>z_latitude</th>\n",
       "    </tr>\n",
       "  </thead>\n",
       "  <tbody>\n",
       "  </tbody>\n",
       "</table>\n",
       "</div>"
      ],
      "text/plain": [
       "Empty DataFrame\n",
       "Columns: [id, name, host_id, host_name, neighbourhood_group, neighbourhood, latitude, longitude, room_type, price, minimum_nights, number_of_reviews, last_review, reviews_per_month, calculated_host_listings_count, availability_365, z_latitude]\n",
       "Index: []"
      ]
     },
     "execution_count": 33,
     "metadata": {},
     "output_type": "execute_result"
    }
   ],
   "source": [
    "df[(df['z_latitude'] > 3.0)]"
   ]
  },
  {
   "cell_type": "code",
   "execution_count": 34,
   "metadata": {
    "id": "GvgdbYc19bgz"
   },
   "outputs": [],
   "source": [
    "df['z_longitude']=0.0"
   ]
  },
  {
   "cell_type": "code",
   "execution_count": 35,
   "metadata": {
    "id": "N0Eb0G9JlTZi"
   },
   "outputs": [],
   "source": [
    "df['z_longitude']=zscore(df['longitude'])"
   ]
  },
  {
   "cell_type": "code",
   "execution_count": 36,
   "metadata": {
    "colab": {
     "base_uri": "https://localhost:8080/"
    },
    "id": "RmTuDHvCU0x4",
    "outputId": "bdd7701a-fee2-4bc3-de2d-d9aa04fc9a54"
   },
   "outputs": [
    {
     "data": {
      "text/plain": [
       "0       -0.444611\n",
       "1       -0.694361\n",
       "2        0.222924\n",
       "3       -0.168352\n",
       "4        0.177136\n",
       "           ...   \n",
       "48890    0.046565\n",
       "48891    0.414180\n",
       "48892    0.074607\n",
       "48893   -0.855385\n",
       "48894   -0.816170\n",
       "Name: z_longitude, Length: 48796, dtype: float64"
      ]
     },
     "execution_count": 36,
     "metadata": {},
     "output_type": "execute_result"
    }
   ],
   "source": [
    "df['z_longitude']"
   ]
  },
  {
   "cell_type": "code",
   "execution_count": 37,
   "metadata": {
    "colab": {
     "base_uri": "https://localhost:8080/",
     "height": 267
    },
    "id": "Hy28U9PwUf-i",
    "outputId": "f8576bd1-d3c3-47cf-9101-e4ad82d349f6"
   },
   "outputs": [
    {
     "data": {
      "text/html": [
       "<div>\n",
       "<style scoped>\n",
       "    .dataframe tbody tr th:only-of-type {\n",
       "        vertical-align: middle;\n",
       "    }\n",
       "\n",
       "    .dataframe tbody tr th {\n",
       "        vertical-align: top;\n",
       "    }\n",
       "\n",
       "    .dataframe thead th {\n",
       "        text-align: right;\n",
       "    }\n",
       "</style>\n",
       "<table border=\"1\" class=\"dataframe\">\n",
       "  <thead>\n",
       "    <tr style=\"text-align: right;\">\n",
       "      <th></th>\n",
       "      <th>id</th>\n",
       "      <th>name</th>\n",
       "      <th>host_id</th>\n",
       "      <th>host_name</th>\n",
       "      <th>neighbourhood_group</th>\n",
       "      <th>neighbourhood</th>\n",
       "      <th>latitude</th>\n",
       "      <th>longitude</th>\n",
       "      <th>room_type</th>\n",
       "      <th>price</th>\n",
       "      <th>minimum_nights</th>\n",
       "      <th>number_of_reviews</th>\n",
       "      <th>last_review</th>\n",
       "      <th>reviews_per_month</th>\n",
       "      <th>calculated_host_listings_count</th>\n",
       "      <th>availability_365</th>\n",
       "      <th>z_latitude</th>\n",
       "      <th>z_longitude</th>\n",
       "    </tr>\n",
       "  </thead>\n",
       "  <tbody>\n",
       "    <tr>\n",
       "      <th>0</th>\n",
       "      <td>2539</td>\n",
       "      <td>Clean &amp; quiet apt home by the park</td>\n",
       "      <td>2787</td>\n",
       "      <td>John</td>\n",
       "      <td>Brooklyn</td>\n",
       "      <td>Kensington</td>\n",
       "      <td>40.64749</td>\n",
       "      <td>-73.97237</td>\n",
       "      <td>Private room</td>\n",
       "      <td>149</td>\n",
       "      <td>1</td>\n",
       "      <td>9</td>\n",
       "      <td>2018-10-19</td>\n",
       "      <td>0.210</td>\n",
       "      <td>6</td>\n",
       "      <td>365</td>\n",
       "      <td>-1.493849</td>\n",
       "      <td>-0.444611</td>\n",
       "    </tr>\n",
       "    <tr>\n",
       "      <th>1</th>\n",
       "      <td>2595</td>\n",
       "      <td>Skylit Midtown Castle</td>\n",
       "      <td>2845</td>\n",
       "      <td>Jennifer</td>\n",
       "      <td>Manhattan</td>\n",
       "      <td>Midtown</td>\n",
       "      <td>40.75362</td>\n",
       "      <td>-73.98377</td>\n",
       "      <td>Entire home/apt</td>\n",
       "      <td>225</td>\n",
       "      <td>1</td>\n",
       "      <td>45</td>\n",
       "      <td>2019-05-21</td>\n",
       "      <td>0.380</td>\n",
       "      <td>2</td>\n",
       "      <td>355</td>\n",
       "      <td>0.452436</td>\n",
       "      <td>-0.694361</td>\n",
       "    </tr>\n",
       "    <tr>\n",
       "      <th>2</th>\n",
       "      <td>3647</td>\n",
       "      <td>THE VILLAGE OF HARLEM....NEW YORK !</td>\n",
       "      <td>4632</td>\n",
       "      <td>Elisabeth</td>\n",
       "      <td>Manhattan</td>\n",
       "      <td>Harlem</td>\n",
       "      <td>40.80902</td>\n",
       "      <td>-73.94190</td>\n",
       "      <td>Private room</td>\n",
       "      <td>150</td>\n",
       "      <td>3</td>\n",
       "      <td>0</td>\n",
       "      <td>2019-06-23</td>\n",
       "      <td>1.373</td>\n",
       "      <td>1</td>\n",
       "      <td>365</td>\n",
       "      <td>1.468399</td>\n",
       "      <td>0.222924</td>\n",
       "    </tr>\n",
       "  </tbody>\n",
       "</table>\n",
       "</div>"
      ],
      "text/plain": [
       "     id                                 name  host_id  host_name   \n",
       "0  2539   Clean & quiet apt home by the park     2787       John  \\\n",
       "1  2595                Skylit Midtown Castle     2845   Jennifer   \n",
       "2  3647  THE VILLAGE OF HARLEM....NEW YORK !     4632  Elisabeth   \n",
       "\n",
       "  neighbourhood_group neighbourhood  latitude  longitude        room_type   \n",
       "0            Brooklyn    Kensington  40.64749  -73.97237     Private room  \\\n",
       "1           Manhattan       Midtown  40.75362  -73.98377  Entire home/apt   \n",
       "2           Manhattan        Harlem  40.80902  -73.94190     Private room   \n",
       "\n",
       "   price  minimum_nights  number_of_reviews last_review  reviews_per_month   \n",
       "0    149               1                  9  2018-10-19              0.210  \\\n",
       "1    225               1                 45  2019-05-21              0.380   \n",
       "2    150               3                  0  2019-06-23              1.373   \n",
       "\n",
       "   calculated_host_listings_count  availability_365  z_latitude  z_longitude  \n",
       "0                               6               365   -1.493849    -0.444611  \n",
       "1                               2               355    0.452436    -0.694361  \n",
       "2                               1               365    1.468399     0.222924  "
      ]
     },
     "execution_count": 37,
     "metadata": {},
     "output_type": "execute_result"
    }
   ],
   "source": [
    "df.head(3)"
   ]
  },
  {
   "cell_type": "code",
   "execution_count": 38,
   "metadata": {
    "id": "8iGDNe0Xl5AA"
   },
   "outputs": [],
   "source": [
    "condition_to_drop=(df['z_longitude']<-3.0)\n",
    "df=df[~condition_to_drop]\n",
    "condition_to_drop=(df['z_longitude']>3.0)\n",
    "df=df[~condition_to_drop]"
   ]
  },
  {
   "cell_type": "code",
   "execution_count": 39,
   "metadata": {
    "colab": {
     "base_uri": "https://localhost:8080/",
     "height": 73
    },
    "id": "wb2UW3VmmIm3",
    "outputId": "2591cce6-3a14-40ed-8f07-74a4f947f043"
   },
   "outputs": [
    {
     "data": {
      "text/html": [
       "<div>\n",
       "<style scoped>\n",
       "    .dataframe tbody tr th:only-of-type {\n",
       "        vertical-align: middle;\n",
       "    }\n",
       "\n",
       "    .dataframe tbody tr th {\n",
       "        vertical-align: top;\n",
       "    }\n",
       "\n",
       "    .dataframe thead th {\n",
       "        text-align: right;\n",
       "    }\n",
       "</style>\n",
       "<table border=\"1\" class=\"dataframe\">\n",
       "  <thead>\n",
       "    <tr style=\"text-align: right;\">\n",
       "      <th></th>\n",
       "      <th>id</th>\n",
       "      <th>name</th>\n",
       "      <th>host_id</th>\n",
       "      <th>host_name</th>\n",
       "      <th>neighbourhood_group</th>\n",
       "      <th>neighbourhood</th>\n",
       "      <th>latitude</th>\n",
       "      <th>longitude</th>\n",
       "      <th>room_type</th>\n",
       "      <th>price</th>\n",
       "      <th>minimum_nights</th>\n",
       "      <th>number_of_reviews</th>\n",
       "      <th>last_review</th>\n",
       "      <th>reviews_per_month</th>\n",
       "      <th>calculated_host_listings_count</th>\n",
       "      <th>availability_365</th>\n",
       "      <th>z_latitude</th>\n",
       "      <th>z_longitude</th>\n",
       "    </tr>\n",
       "  </thead>\n",
       "  <tbody>\n",
       "  </tbody>\n",
       "</table>\n",
       "</div>"
      ],
      "text/plain": [
       "Empty DataFrame\n",
       "Columns: [id, name, host_id, host_name, neighbourhood_group, neighbourhood, latitude, longitude, room_type, price, minimum_nights, number_of_reviews, last_review, reviews_per_month, calculated_host_listings_count, availability_365, z_latitude, z_longitude]\n",
       "Index: []"
      ]
     },
     "execution_count": 39,
     "metadata": {},
     "output_type": "execute_result"
    }
   ],
   "source": [
    "df[df['z_longitude'] < -3.0]"
   ]
  },
  {
   "cell_type": "code",
   "execution_count": 40,
   "metadata": {
    "colab": {
     "base_uri": "https://localhost:8080/",
     "height": 73
    },
    "id": "_3uYSgzQmMAV",
    "outputId": "272ae02d-c990-4a30-a767-f87bbc605753"
   },
   "outputs": [
    {
     "data": {
      "text/html": [
       "<div>\n",
       "<style scoped>\n",
       "    .dataframe tbody tr th:only-of-type {\n",
       "        vertical-align: middle;\n",
       "    }\n",
       "\n",
       "    .dataframe tbody tr th {\n",
       "        vertical-align: top;\n",
       "    }\n",
       "\n",
       "    .dataframe thead th {\n",
       "        text-align: right;\n",
       "    }\n",
       "</style>\n",
       "<table border=\"1\" class=\"dataframe\">\n",
       "  <thead>\n",
       "    <tr style=\"text-align: right;\">\n",
       "      <th></th>\n",
       "      <th>id</th>\n",
       "      <th>name</th>\n",
       "      <th>host_id</th>\n",
       "      <th>host_name</th>\n",
       "      <th>neighbourhood_group</th>\n",
       "      <th>neighbourhood</th>\n",
       "      <th>latitude</th>\n",
       "      <th>longitude</th>\n",
       "      <th>room_type</th>\n",
       "      <th>price</th>\n",
       "      <th>minimum_nights</th>\n",
       "      <th>number_of_reviews</th>\n",
       "      <th>last_review</th>\n",
       "      <th>reviews_per_month</th>\n",
       "      <th>calculated_host_listings_count</th>\n",
       "      <th>availability_365</th>\n",
       "      <th>z_latitude</th>\n",
       "      <th>z_longitude</th>\n",
       "    </tr>\n",
       "  </thead>\n",
       "  <tbody>\n",
       "  </tbody>\n",
       "</table>\n",
       "</div>"
      ],
      "text/plain": [
       "Empty DataFrame\n",
       "Columns: [id, name, host_id, host_name, neighbourhood_group, neighbourhood, latitude, longitude, room_type, price, minimum_nights, number_of_reviews, last_review, reviews_per_month, calculated_host_listings_count, availability_365, z_latitude, z_longitude]\n",
       "Index: []"
      ]
     },
     "execution_count": 40,
     "metadata": {},
     "output_type": "execute_result"
    }
   ],
   "source": [
    "df[df['z_longitude'] > 3.0]"
   ]
  },
  {
   "cell_type": "code",
   "execution_count": 41,
   "metadata": {
    "colab": {
     "base_uri": "https://localhost:8080/"
    },
    "id": "QuCw4o-WmdsK",
    "outputId": "afe5cc36-d6be-4a35-bf73-8b83ec7ed972"
   },
   "outputs": [],
   "source": [
    "df['z_price']=0"
   ]
  },
  {
   "cell_type": "code",
   "execution_count": 42,
   "metadata": {
    "colab": {
     "base_uri": "https://localhost:8080/"
    },
    "id": "I1Tls1HjUwh4",
    "outputId": "0398e884-7427-4492-c2c0-b0bd2329998d"
   },
   "outputs": [],
   "source": [
    "df['z_price']=zscore(df['price'])"
   ]
  },
  {
   "cell_type": "code",
   "execution_count": 43,
   "metadata": {
    "colab": {
     "base_uri": "https://localhost:8080/"
    },
    "id": "og3xZsua0KMf",
    "outputId": "b53eaf4e-c5e1-48b0-bfe3-057340571587"
   },
   "outputs": [
    {
     "data": {
      "text/plain": [
       "0       -0.020398\n",
       "1        0.294504\n",
       "2       -0.016254\n",
       "3       -0.269004\n",
       "4       -0.306295\n",
       "           ...   \n",
       "48890   -0.347730\n",
       "48891   -0.472033\n",
       "48892   -0.161275\n",
       "48893   -0.409881\n",
       "48894   -0.264861\n",
       "Name: z_price, Length: 47546, dtype: float64"
      ]
     },
     "execution_count": 43,
     "metadata": {},
     "output_type": "execute_result"
    }
   ],
   "source": [
    "df['z_price']"
   ]
  },
  {
   "cell_type": "code",
   "execution_count": 44,
   "metadata": {
    "id": "gGtCyyIJ0hr9"
   },
   "outputs": [],
   "source": [
    "condition_to_be_checked=(df['z_price']>3.0)"
   ]
  },
  {
   "cell_type": "code",
   "execution_count": 45,
   "metadata": {
    "colab": {
     "base_uri": "https://localhost:8080/",
     "height": 790
    },
    "id": "R5ULgikC0sQG",
    "outputId": "c9d55534-0f98-4b94-a64c-8dede325bd70"
   },
   "outputs": [
    {
     "data": {
      "text/html": [
       "<div>\n",
       "<style scoped>\n",
       "    .dataframe tbody tr th:only-of-type {\n",
       "        vertical-align: middle;\n",
       "    }\n",
       "\n",
       "    .dataframe tbody tr th {\n",
       "        vertical-align: top;\n",
       "    }\n",
       "\n",
       "    .dataframe thead th {\n",
       "        text-align: right;\n",
       "    }\n",
       "</style>\n",
       "<table border=\"1\" class=\"dataframe\">\n",
       "  <thead>\n",
       "    <tr style=\"text-align: right;\">\n",
       "      <th></th>\n",
       "      <th>id</th>\n",
       "      <th>name</th>\n",
       "      <th>host_id</th>\n",
       "      <th>host_name</th>\n",
       "      <th>neighbourhood_group</th>\n",
       "      <th>neighbourhood</th>\n",
       "      <th>latitude</th>\n",
       "      <th>longitude</th>\n",
       "      <th>room_type</th>\n",
       "      <th>price</th>\n",
       "      <th>minimum_nights</th>\n",
       "      <th>number_of_reviews</th>\n",
       "      <th>last_review</th>\n",
       "      <th>reviews_per_month</th>\n",
       "      <th>calculated_host_listings_count</th>\n",
       "      <th>availability_365</th>\n",
       "      <th>z_latitude</th>\n",
       "      <th>z_longitude</th>\n",
       "      <th>z_price</th>\n",
       "    </tr>\n",
       "  </thead>\n",
       "  <tbody>\n",
       "    <tr>\n",
       "      <th>496</th>\n",
       "      <td>174966</td>\n",
       "      <td>Luxury 2Bed/2.5Bath Central Park View</td>\n",
       "      <td>836168</td>\n",
       "      <td>Henry</td>\n",
       "      <td>Manhattan</td>\n",
       "      <td>Upper West Side</td>\n",
       "      <td>40.77350</td>\n",
       "      <td>-73.98697</td>\n",
       "      <td>Entire home/apt</td>\n",
       "      <td>2000</td>\n",
       "      <td>30</td>\n",
       "      <td>30</td>\n",
       "      <td>2018-05-05</td>\n",
       "      <td>0.330</td>\n",
       "      <td>11</td>\n",
       "      <td>0</td>\n",
       "      <td>0.817009</td>\n",
       "      <td>-0.764467</td>\n",
       "      <td>7.649115</td>\n",
       "    </tr>\n",
       "    <tr>\n",
       "      <th>762</th>\n",
       "      <td>273190</td>\n",
       "      <td>6 Bedroom Landmark West Village Townhouse</td>\n",
       "      <td>605463</td>\n",
       "      <td>West Village</td>\n",
       "      <td>Manhattan</td>\n",
       "      <td>West Village</td>\n",
       "      <td>40.73301</td>\n",
       "      <td>-74.00268</td>\n",
       "      <td>Entire home/apt</td>\n",
       "      <td>1300</td>\n",
       "      <td>5</td>\n",
       "      <td>28</td>\n",
       "      <td>2018-09-25</td>\n",
       "      <td>0.310</td>\n",
       "      <td>4</td>\n",
       "      <td>297</td>\n",
       "      <td>0.074476</td>\n",
       "      <td>-1.108641</td>\n",
       "      <td>4.748705</td>\n",
       "    </tr>\n",
       "    <tr>\n",
       "      <th>946</th>\n",
       "      <td>363673</td>\n",
       "      <td>Beautiful 3 bedroom in Manhattan</td>\n",
       "      <td>256239</td>\n",
       "      <td>Tracey</td>\n",
       "      <td>Manhattan</td>\n",
       "      <td>Upper West Side</td>\n",
       "      <td>40.80142</td>\n",
       "      <td>-73.96931</td>\n",
       "      <td>Private room</td>\n",
       "      <td>3000</td>\n",
       "      <td>7</td>\n",
       "      <td>0</td>\n",
       "      <td>2019-06-23</td>\n",
       "      <td>1.373</td>\n",
       "      <td>1</td>\n",
       "      <td>365</td>\n",
       "      <td>1.329025</td>\n",
       "      <td>-0.377573</td>\n",
       "      <td>11.792557</td>\n",
       "    </tr>\n",
       "    <tr>\n",
       "      <th>1105</th>\n",
       "      <td>468613</td>\n",
       "      <td>$ (Phone number hidden by Airbnb) weeks - room f</td>\n",
       "      <td>2325861</td>\n",
       "      <td>Cynthia</td>\n",
       "      <td>Manhattan</td>\n",
       "      <td>Lower East Side</td>\n",
       "      <td>40.72152</td>\n",
       "      <td>-73.99279</td>\n",
       "      <td>Private room</td>\n",
       "      <td>1300</td>\n",
       "      <td>1</td>\n",
       "      <td>0</td>\n",
       "      <td>2019-06-23</td>\n",
       "      <td>1.373</td>\n",
       "      <td>1</td>\n",
       "      <td>0</td>\n",
       "      <td>-0.136236</td>\n",
       "      <td>-0.891971</td>\n",
       "      <td>4.748705</td>\n",
       "    </tr>\n",
       "    <tr>\n",
       "      <th>1414</th>\n",
       "      <td>634353</td>\n",
       "      <td>Luxury 1Bed with Central Park Views</td>\n",
       "      <td>836168</td>\n",
       "      <td>Henry</td>\n",
       "      <td>Manhattan</td>\n",
       "      <td>Upper West Side</td>\n",
       "      <td>40.77428</td>\n",
       "      <td>-73.98594</td>\n",
       "      <td>Entire home/apt</td>\n",
       "      <td>1000</td>\n",
       "      <td>30</td>\n",
       "      <td>44</td>\n",
       "      <td>2015-09-28</td>\n",
       "      <td>0.530</td>\n",
       "      <td>11</td>\n",
       "      <td>364</td>\n",
       "      <td>0.831313</td>\n",
       "      <td>-0.741902</td>\n",
       "      <td>3.505672</td>\n",
       "    </tr>\n",
       "    <tr>\n",
       "      <th>...</th>\n",
       "      <td>...</td>\n",
       "      <td>...</td>\n",
       "      <td>...</td>\n",
       "      <td>...</td>\n",
       "      <td>...</td>\n",
       "      <td>...</td>\n",
       "      <td>...</td>\n",
       "      <td>...</td>\n",
       "      <td>...</td>\n",
       "      <td>...</td>\n",
       "      <td>...</td>\n",
       "      <td>...</td>\n",
       "      <td>...</td>\n",
       "      <td>...</td>\n",
       "      <td>...</td>\n",
       "      <td>...</td>\n",
       "      <td>...</td>\n",
       "      <td>...</td>\n",
       "      <td>...</td>\n",
       "    </tr>\n",
       "    <tr>\n",
       "      <th>48301</th>\n",
       "      <td>36186719</td>\n",
       "      <td>Private Bedroom in the Heart of Chelsea!</td>\n",
       "      <td>268920555</td>\n",
       "      <td>Terrence Jake</td>\n",
       "      <td>Manhattan</td>\n",
       "      <td>Chelsea</td>\n",
       "      <td>40.74531</td>\n",
       "      <td>-73.99454</td>\n",
       "      <td>Private room</td>\n",
       "      <td>999</td>\n",
       "      <td>30</td>\n",
       "      <td>0</td>\n",
       "      <td>2019-06-23</td>\n",
       "      <td>1.373</td>\n",
       "      <td>1</td>\n",
       "      <td>270</td>\n",
       "      <td>0.300042</td>\n",
       "      <td>-0.930310</td>\n",
       "      <td>3.501528</td>\n",
       "    </tr>\n",
       "    <tr>\n",
       "      <th>48304</th>\n",
       "      <td>36189195</td>\n",
       "      <td>Next to Times Square/Javits/MSG! Amazing 1BR!</td>\n",
       "      <td>270214015</td>\n",
       "      <td>Rogelio</td>\n",
       "      <td>Manhattan</td>\n",
       "      <td>Hell's Kitchen</td>\n",
       "      <td>40.75533</td>\n",
       "      <td>-73.99866</td>\n",
       "      <td>Entire home/apt</td>\n",
       "      <td>2999</td>\n",
       "      <td>30</td>\n",
       "      <td>0</td>\n",
       "      <td>2019-06-23</td>\n",
       "      <td>1.373</td>\n",
       "      <td>1</td>\n",
       "      <td>222</td>\n",
       "      <td>0.483795</td>\n",
       "      <td>-1.020571</td>\n",
       "      <td>11.788414</td>\n",
       "    </tr>\n",
       "    <tr>\n",
       "      <th>48305</th>\n",
       "      <td>36189257</td>\n",
       "      <td>2BR Near Museum Mile! Upper East Side!</td>\n",
       "      <td>272166348</td>\n",
       "      <td>Mary Rotsen</td>\n",
       "      <td>Manhattan</td>\n",
       "      <td>Upper East Side</td>\n",
       "      <td>40.78132</td>\n",
       "      <td>-73.95262</td>\n",
       "      <td>Entire home/apt</td>\n",
       "      <td>1999</td>\n",
       "      <td>30</td>\n",
       "      <td>0</td>\n",
       "      <td>2019-06-23</td>\n",
       "      <td>1.373</td>\n",
       "      <td>1</td>\n",
       "      <td>270</td>\n",
       "      <td>0.960418</td>\n",
       "      <td>-0.011929</td>\n",
       "      <td>7.644971</td>\n",
       "    </tr>\n",
       "    <tr>\n",
       "      <th>48523</th>\n",
       "      <td>36308562</td>\n",
       "      <td>Tasteful &amp; Trendy Brooklyn Brownstone, near Train</td>\n",
       "      <td>217732163</td>\n",
       "      <td>Sandy</td>\n",
       "      <td>Brooklyn</td>\n",
       "      <td>Bedford-Stuyvesant</td>\n",
       "      <td>40.68767</td>\n",
       "      <td>-73.95805</td>\n",
       "      <td>Entire home/apt</td>\n",
       "      <td>1369</td>\n",
       "      <td>1</td>\n",
       "      <td>0</td>\n",
       "      <td>2019-06-23</td>\n",
       "      <td>1.373</td>\n",
       "      <td>1</td>\n",
       "      <td>349</td>\n",
       "      <td>-0.757001</td>\n",
       "      <td>-0.130889</td>\n",
       "      <td>5.034602</td>\n",
       "    </tr>\n",
       "    <tr>\n",
       "      <th>48535</th>\n",
       "      <td>36311055</td>\n",
       "      <td>Stunning &amp; Stylish Brooklyn Luxury, near Train</td>\n",
       "      <td>245712163</td>\n",
       "      <td>Urvashi</td>\n",
       "      <td>Brooklyn</td>\n",
       "      <td>Bedford-Stuyvesant</td>\n",
       "      <td>40.68245</td>\n",
       "      <td>-73.93417</td>\n",
       "      <td>Entire home/apt</td>\n",
       "      <td>1749</td>\n",
       "      <td>1</td>\n",
       "      <td>0</td>\n",
       "      <td>2019-06-23</td>\n",
       "      <td>1.373</td>\n",
       "      <td>1</td>\n",
       "      <td>303</td>\n",
       "      <td>-0.852729</td>\n",
       "      <td>0.392272</td>\n",
       "      <td>6.609110</td>\n",
       "    </tr>\n",
       "  </tbody>\n",
       "</table>\n",
       "<p>378 rows × 19 columns</p>\n",
       "</div>"
      ],
      "text/plain": [
       "             id                                               name    host_id   \n",
       "496      174966              Luxury 2Bed/2.5Bath Central Park View     836168  \\\n",
       "762      273190          6 Bedroom Landmark West Village Townhouse     605463   \n",
       "946      363673                   Beautiful 3 bedroom in Manhattan     256239   \n",
       "1105     468613   $ (Phone number hidden by Airbnb) weeks - room f    2325861   \n",
       "1414     634353                Luxury 1Bed with Central Park Views     836168   \n",
       "...         ...                                                ...        ...   \n",
       "48301  36186719           Private Bedroom in the Heart of Chelsea!  268920555   \n",
       "48304  36189195      Next to Times Square/Javits/MSG! Amazing 1BR!  270214015   \n",
       "48305  36189257             2BR Near Museum Mile! Upper East Side!  272166348   \n",
       "48523  36308562  Tasteful & Trendy Brooklyn Brownstone, near Train  217732163   \n",
       "48535  36311055     Stunning & Stylish Brooklyn Luxury, near Train  245712163   \n",
       "\n",
       "           host_name neighbourhood_group       neighbourhood  latitude   \n",
       "496            Henry           Manhattan     Upper West Side  40.77350  \\\n",
       "762     West Village           Manhattan        West Village  40.73301   \n",
       "946           Tracey           Manhattan     Upper West Side  40.80142   \n",
       "1105         Cynthia           Manhattan     Lower East Side  40.72152   \n",
       "1414           Henry           Manhattan     Upper West Side  40.77428   \n",
       "...              ...                 ...                 ...       ...   \n",
       "48301  Terrence Jake           Manhattan             Chelsea  40.74531   \n",
       "48304        Rogelio           Manhattan      Hell's Kitchen  40.75533   \n",
       "48305    Mary Rotsen           Manhattan     Upper East Side  40.78132   \n",
       "48523          Sandy            Brooklyn  Bedford-Stuyvesant  40.68767   \n",
       "48535        Urvashi            Brooklyn  Bedford-Stuyvesant  40.68245   \n",
       "\n",
       "       longitude        room_type  price  minimum_nights  number_of_reviews   \n",
       "496    -73.98697  Entire home/apt   2000              30                 30  \\\n",
       "762    -74.00268  Entire home/apt   1300               5                 28   \n",
       "946    -73.96931     Private room   3000               7                  0   \n",
       "1105   -73.99279     Private room   1300               1                  0   \n",
       "1414   -73.98594  Entire home/apt   1000              30                 44   \n",
       "...          ...              ...    ...             ...                ...   \n",
       "48301  -73.99454     Private room    999              30                  0   \n",
       "48304  -73.99866  Entire home/apt   2999              30                  0   \n",
       "48305  -73.95262  Entire home/apt   1999              30                  0   \n",
       "48523  -73.95805  Entire home/apt   1369               1                  0   \n",
       "48535  -73.93417  Entire home/apt   1749               1                  0   \n",
       "\n",
       "      last_review  reviews_per_month  calculated_host_listings_count   \n",
       "496    2018-05-05              0.330                              11  \\\n",
       "762    2018-09-25              0.310                               4   \n",
       "946    2019-06-23              1.373                               1   \n",
       "1105   2019-06-23              1.373                               1   \n",
       "1414   2015-09-28              0.530                              11   \n",
       "...           ...                ...                             ...   \n",
       "48301  2019-06-23              1.373                               1   \n",
       "48304  2019-06-23              1.373                               1   \n",
       "48305  2019-06-23              1.373                               1   \n",
       "48523  2019-06-23              1.373                               1   \n",
       "48535  2019-06-23              1.373                               1   \n",
       "\n",
       "       availability_365  z_latitude  z_longitude    z_price  \n",
       "496                   0    0.817009    -0.764467   7.649115  \n",
       "762                 297    0.074476    -1.108641   4.748705  \n",
       "946                 365    1.329025    -0.377573  11.792557  \n",
       "1105                  0   -0.136236    -0.891971   4.748705  \n",
       "1414                364    0.831313    -0.741902   3.505672  \n",
       "...                 ...         ...          ...        ...  \n",
       "48301               270    0.300042    -0.930310   3.501528  \n",
       "48304               222    0.483795    -1.020571  11.788414  \n",
       "48305               270    0.960418    -0.011929   7.644971  \n",
       "48523               349   -0.757001    -0.130889   5.034602  \n",
       "48535               303   -0.852729     0.392272   6.609110  \n",
       "\n",
       "[378 rows x 19 columns]"
      ]
     },
     "execution_count": 45,
     "metadata": {},
     "output_type": "execute_result"
    }
   ],
   "source": [
    "df[df['z_price']>3.0]"
   ]
  },
  {
   "cell_type": "markdown",
   "metadata": {
    "id": "Lp4KGyE81cNA"
   },
   "source": []
  },
  {
   "cell_type": "code",
   "execution_count": 46,
   "metadata": {
    "colab": {
     "base_uri": "https://localhost:8080/",
     "height": 73
    },
    "id": "QtMyne4-0_33",
    "outputId": "b9b79312-b60a-4da1-8503-ac7fc337720b"
   },
   "outputs": [
    {
     "data": {
      "text/html": [
       "<div>\n",
       "<style scoped>\n",
       "    .dataframe tbody tr th:only-of-type {\n",
       "        vertical-align: middle;\n",
       "    }\n",
       "\n",
       "    .dataframe tbody tr th {\n",
       "        vertical-align: top;\n",
       "    }\n",
       "\n",
       "    .dataframe thead th {\n",
       "        text-align: right;\n",
       "    }\n",
       "</style>\n",
       "<table border=\"1\" class=\"dataframe\">\n",
       "  <thead>\n",
       "    <tr style=\"text-align: right;\">\n",
       "      <th></th>\n",
       "      <th>id</th>\n",
       "      <th>name</th>\n",
       "      <th>host_id</th>\n",
       "      <th>host_name</th>\n",
       "      <th>neighbourhood_group</th>\n",
       "      <th>neighbourhood</th>\n",
       "      <th>latitude</th>\n",
       "      <th>longitude</th>\n",
       "      <th>room_type</th>\n",
       "      <th>price</th>\n",
       "      <th>minimum_nights</th>\n",
       "      <th>number_of_reviews</th>\n",
       "      <th>last_review</th>\n",
       "      <th>reviews_per_month</th>\n",
       "      <th>calculated_host_listings_count</th>\n",
       "      <th>availability_365</th>\n",
       "      <th>z_latitude</th>\n",
       "      <th>z_longitude</th>\n",
       "      <th>z_price</th>\n",
       "    </tr>\n",
       "  </thead>\n",
       "  <tbody>\n",
       "  </tbody>\n",
       "</table>\n",
       "</div>"
      ],
      "text/plain": [
       "Empty DataFrame\n",
       "Columns: [id, name, host_id, host_name, neighbourhood_group, neighbourhood, latitude, longitude, room_type, price, minimum_nights, number_of_reviews, last_review, reviews_per_month, calculated_host_listings_count, availability_365, z_latitude, z_longitude, z_price]\n",
       "Index: []"
      ]
     },
     "execution_count": 46,
     "metadata": {},
     "output_type": "execute_result"
    }
   ],
   "source": [
    "df[df['z_price']<-3.0]"
   ]
  },
  {
   "cell_type": "markdown",
   "metadata": {
    "id": "uHjM4ZGueUV2"
   },
   "source": [
    "1. Outliers can cause problems in model building so I decided to remove them from the dataset\n",
    "2. I utilized z score technique to detect outliers in latitude, longitude and price columns as they are the most crucial columns to the analysis.\n",
    "3. If z score lies between -3 and +3 then the data point is not an outlier otherwise it is classified as an outlier.\n",
    "4. I created columns of z_latitude and z_longitude to store the z-scores of latitude and longitude columns respectively.\n",
    "5. I removed the rows containing z_latitude > 3 and z_latitude<-3\n",
    "6. There were no rows for z_longitude<-3.\n",
    "7. I removed the rows where z_longitude>3\n",
    "8. I created columns of z_price to store the z-scores of price column .\n",
    "9. Since most of the outliers detected through the price column  have names such as \"luxury\" and \"trendy\" and might have a reason for their high price, I will be keeping the outliers in the price columns as it is and not deal with them.\n",
    "10. There were no rows for z_price<-3\n"
   ]
  },
  {
   "cell_type": "markdown",
   "metadata": {
    "id": "CBpzP8RrWHwn"
   },
   "source": [
    "**TEXT PRE PROCESSING**"
   ]
  },
  {
   "cell_type": "code",
   "execution_count": 47,
   "metadata": {
    "id": "BekSIxf058XH"
   },
   "outputs": [],
   "source": [
    "def remove_stopwords(text):\n",
    "    token_text = word_tokenize(text)\n",
    "    filter_text = [word for word in token_text if word.lower() not in stopwords.words('english')]\n",
    "    clean_text = ' '.join(filter_text)\n",
    "    return clean_text"
   ]
  },
  {
   "cell_type": "code",
   "execution_count": 48,
   "metadata": {
    "colab": {
     "base_uri": "https://localhost:8080/"
    },
    "id": "BblghFpP8FsI",
    "outputId": "b72ba847-2676-4b33-ce48-65025f29478b"
   },
   "outputs": [
    {
     "data": {
      "text/plain": [
       "0    Clean & quiet apt home by the park\n",
       "1                 Skylit Midtown Castle\n",
       "Name: name, dtype: object"
      ]
     },
     "execution_count": 48,
     "metadata": {},
     "output_type": "execute_result"
    }
   ],
   "source": [
    "df['name'].head(2)"
   ]
  },
  {
   "cell_type": "code",
   "execution_count": 49,
   "metadata": {
    "id": "ICVoKpBN6ryD"
   },
   "outputs": [],
   "source": [
    "df['name']=df['name'].apply(remove_stopwords)"
   ]
  },
  {
   "cell_type": "code",
   "execution_count": 50,
   "metadata": {
    "colab": {
     "base_uri": "https://localhost:8080/"
    },
    "id": "WWsss-Vw6xjY",
    "outputId": "c93dc09e-b310-494a-f92b-b37fd4fe1117"
   },
   "outputs": [
    {
     "data": {
      "text/plain": [
       "0    Clean & quiet apt home park\n",
       "1          Skylit Midtown Castle\n",
       "Name: name, dtype: object"
      ]
     },
     "execution_count": 50,
     "metadata": {},
     "output_type": "execute_result"
    }
   ],
   "source": [
    "df['name'].head(2)"
   ]
  },
  {
   "cell_type": "code",
   "execution_count": 51,
   "metadata": {
    "id": "ZKxB0LEy8uFa"
   },
   "outputs": [],
   "source": [
    "punc=string.punctuation"
   ]
  },
  {
   "cell_type": "code",
   "execution_count": 52,
   "metadata": {
    "colab": {
     "base_uri": "https://localhost:8080/",
     "height": 35
    },
    "id": "haFUnXP7_P6I",
    "outputId": "61bd37e2-f14d-4c2b-e430-6dc986ebbc21"
   },
   "outputs": [
    {
     "data": {
      "text/plain": [
       "'!\"#$%&\\'()*+,-./:;<=>?@[\\\\]^_`{|}~'"
      ]
     },
     "execution_count": 52,
     "metadata": {},
     "output_type": "execute_result"
    }
   ],
   "source": [
    "punc"
   ]
  },
  {
   "cell_type": "code",
   "execution_count": 53,
   "metadata": {
    "id": "T5aYI3Ik8A1T"
   },
   "outputs": [],
   "source": [
    "def remove_punctuations(text):\n",
    "  clean_text=\"\"\n",
    "  for c in text:\n",
    "    if c not in  punc:\n",
    "      clean_text=clean_text+\"\"+c\n",
    "  return clean_text\n",
    "\n"
   ]
  },
  {
   "cell_type": "code",
   "execution_count": 54,
   "metadata": {
    "id": "q7eyxo6i9T6f"
   },
   "outputs": [],
   "source": [
    "df['name']=df['name'].apply(remove_punctuations)\n",
    "df['host_name']=df['host_name'].apply(remove_punctuations)\n",
    "df['neighbourhood_group']=df['neighbourhood_group'].apply(remove_punctuations)\n",
    "df['neighbourhood']=df['neighbourhood'].apply(remove_punctuations)\n"
   ]
  },
  {
   "cell_type": "code",
   "execution_count": 55,
   "metadata": {
    "colab": {
     "base_uri": "https://localhost:8080/",
     "height": 236
    },
    "id": "q-yUWmaC9f9j",
    "outputId": "bf37f6bf-d1b8-44eb-b2c3-4c3488bb873f"
   },
   "outputs": [
    {
     "data": {
      "text/html": [
       "<div>\n",
       "<style scoped>\n",
       "    .dataframe tbody tr th:only-of-type {\n",
       "        vertical-align: middle;\n",
       "    }\n",
       "\n",
       "    .dataframe tbody tr th {\n",
       "        vertical-align: top;\n",
       "    }\n",
       "\n",
       "    .dataframe thead th {\n",
       "        text-align: right;\n",
       "    }\n",
       "</style>\n",
       "<table border=\"1\" class=\"dataframe\">\n",
       "  <thead>\n",
       "    <tr style=\"text-align: right;\">\n",
       "      <th></th>\n",
       "      <th>id</th>\n",
       "      <th>name</th>\n",
       "      <th>host_id</th>\n",
       "      <th>host_name</th>\n",
       "      <th>neighbourhood_group</th>\n",
       "      <th>neighbourhood</th>\n",
       "      <th>latitude</th>\n",
       "      <th>longitude</th>\n",
       "      <th>room_type</th>\n",
       "      <th>price</th>\n",
       "      <th>minimum_nights</th>\n",
       "      <th>number_of_reviews</th>\n",
       "      <th>last_review</th>\n",
       "      <th>reviews_per_month</th>\n",
       "      <th>calculated_host_listings_count</th>\n",
       "      <th>availability_365</th>\n",
       "      <th>z_latitude</th>\n",
       "      <th>z_longitude</th>\n",
       "      <th>z_price</th>\n",
       "    </tr>\n",
       "  </thead>\n",
       "  <tbody>\n",
       "    <tr>\n",
       "      <th>0</th>\n",
       "      <td>2539</td>\n",
       "      <td>Clean  quiet apt home park</td>\n",
       "      <td>2787</td>\n",
       "      <td>John</td>\n",
       "      <td>Brooklyn</td>\n",
       "      <td>Kensington</td>\n",
       "      <td>40.64749</td>\n",
       "      <td>-73.97237</td>\n",
       "      <td>Private room</td>\n",
       "      <td>149</td>\n",
       "      <td>1</td>\n",
       "      <td>9</td>\n",
       "      <td>2018-10-19</td>\n",
       "      <td>0.21</td>\n",
       "      <td>6</td>\n",
       "      <td>365</td>\n",
       "      <td>-1.493849</td>\n",
       "      <td>-0.444611</td>\n",
       "      <td>-0.020398</td>\n",
       "    </tr>\n",
       "    <tr>\n",
       "      <th>1</th>\n",
       "      <td>2595</td>\n",
       "      <td>Skylit Midtown Castle</td>\n",
       "      <td>2845</td>\n",
       "      <td>Jennifer</td>\n",
       "      <td>Manhattan</td>\n",
       "      <td>Midtown</td>\n",
       "      <td>40.75362</td>\n",
       "      <td>-73.98377</td>\n",
       "      <td>Entire home/apt</td>\n",
       "      <td>225</td>\n",
       "      <td>1</td>\n",
       "      <td>45</td>\n",
       "      <td>2019-05-21</td>\n",
       "      <td>0.38</td>\n",
       "      <td>2</td>\n",
       "      <td>355</td>\n",
       "      <td>0.452436</td>\n",
       "      <td>-0.694361</td>\n",
       "      <td>0.294504</td>\n",
       "    </tr>\n",
       "  </tbody>\n",
       "</table>\n",
       "</div>"
      ],
      "text/plain": [
       "     id                        name  host_id host_name neighbourhood_group   \n",
       "0  2539  Clean  quiet apt home park     2787      John            Brooklyn  \\\n",
       "1  2595       Skylit Midtown Castle     2845  Jennifer           Manhattan   \n",
       "\n",
       "  neighbourhood  latitude  longitude        room_type  price  minimum_nights   \n",
       "0    Kensington  40.64749  -73.97237     Private room    149               1  \\\n",
       "1       Midtown  40.75362  -73.98377  Entire home/apt    225               1   \n",
       "\n",
       "   number_of_reviews last_review  reviews_per_month   \n",
       "0                  9  2018-10-19               0.21  \\\n",
       "1                 45  2019-05-21               0.38   \n",
       "\n",
       "   calculated_host_listings_count  availability_365  z_latitude  z_longitude   \n",
       "0                               6               365   -1.493849    -0.444611  \\\n",
       "1                               2               355    0.452436    -0.694361   \n",
       "\n",
       "    z_price  \n",
       "0 -0.020398  \n",
       "1  0.294504  "
      ]
     },
     "execution_count": 55,
     "metadata": {},
     "output_type": "execute_result"
    }
   ],
   "source": [
    "df.head(2)"
   ]
  },
  {
   "cell_type": "code",
   "execution_count": 56,
   "metadata": {
    "id": "OfHRoyrX-kvs"
   },
   "outputs": [],
   "source": [
    "def to_lower_case(text):\n",
    "  return text.lower()"
   ]
  },
  {
   "cell_type": "code",
   "execution_count": 57,
   "metadata": {
    "id": "VGMD0VogBJ_B"
   },
   "outputs": [],
   "source": [
    "df['name']=df['name'].apply(to_lower_case)\n",
    "df['host_name']=df['host_name'].apply(to_lower_case)\n",
    "df['neighbourhood_group']=df['neighbourhood_group'].apply(to_lower_case)\n",
    "df['neighbourhood']=df['neighbourhood'].apply(to_lower_case)\n",
    "df['room_type']=df['room_type'].apply(to_lower_case)"
   ]
  },
  {
   "cell_type": "code",
   "execution_count": 58,
   "metadata": {
    "colab": {
     "base_uri": "https://localhost:8080/",
     "height": 236
    },
    "id": "gO-_XHaxBf0E",
    "outputId": "fdb7adbe-5eed-4b30-b3d6-8ebf71e0dbf5"
   },
   "outputs": [
    {
     "data": {
      "text/html": [
       "<div>\n",
       "<style scoped>\n",
       "    .dataframe tbody tr th:only-of-type {\n",
       "        vertical-align: middle;\n",
       "    }\n",
       "\n",
       "    .dataframe tbody tr th {\n",
       "        vertical-align: top;\n",
       "    }\n",
       "\n",
       "    .dataframe thead th {\n",
       "        text-align: right;\n",
       "    }\n",
       "</style>\n",
       "<table border=\"1\" class=\"dataframe\">\n",
       "  <thead>\n",
       "    <tr style=\"text-align: right;\">\n",
       "      <th></th>\n",
       "      <th>id</th>\n",
       "      <th>name</th>\n",
       "      <th>host_id</th>\n",
       "      <th>host_name</th>\n",
       "      <th>neighbourhood_group</th>\n",
       "      <th>neighbourhood</th>\n",
       "      <th>latitude</th>\n",
       "      <th>longitude</th>\n",
       "      <th>room_type</th>\n",
       "      <th>price</th>\n",
       "      <th>minimum_nights</th>\n",
       "      <th>number_of_reviews</th>\n",
       "      <th>last_review</th>\n",
       "      <th>reviews_per_month</th>\n",
       "      <th>calculated_host_listings_count</th>\n",
       "      <th>availability_365</th>\n",
       "      <th>z_latitude</th>\n",
       "      <th>z_longitude</th>\n",
       "      <th>z_price</th>\n",
       "    </tr>\n",
       "  </thead>\n",
       "  <tbody>\n",
       "    <tr>\n",
       "      <th>0</th>\n",
       "      <td>2539</td>\n",
       "      <td>clean  quiet apt home park</td>\n",
       "      <td>2787</td>\n",
       "      <td>john</td>\n",
       "      <td>brooklyn</td>\n",
       "      <td>kensington</td>\n",
       "      <td>40.64749</td>\n",
       "      <td>-73.97237</td>\n",
       "      <td>private room</td>\n",
       "      <td>149</td>\n",
       "      <td>1</td>\n",
       "      <td>9</td>\n",
       "      <td>2018-10-19</td>\n",
       "      <td>0.21</td>\n",
       "      <td>6</td>\n",
       "      <td>365</td>\n",
       "      <td>-1.493849</td>\n",
       "      <td>-0.444611</td>\n",
       "      <td>-0.020398</td>\n",
       "    </tr>\n",
       "    <tr>\n",
       "      <th>1</th>\n",
       "      <td>2595</td>\n",
       "      <td>skylit midtown castle</td>\n",
       "      <td>2845</td>\n",
       "      <td>jennifer</td>\n",
       "      <td>manhattan</td>\n",
       "      <td>midtown</td>\n",
       "      <td>40.75362</td>\n",
       "      <td>-73.98377</td>\n",
       "      <td>entire home/apt</td>\n",
       "      <td>225</td>\n",
       "      <td>1</td>\n",
       "      <td>45</td>\n",
       "      <td>2019-05-21</td>\n",
       "      <td>0.38</td>\n",
       "      <td>2</td>\n",
       "      <td>355</td>\n",
       "      <td>0.452436</td>\n",
       "      <td>-0.694361</td>\n",
       "      <td>0.294504</td>\n",
       "    </tr>\n",
       "  </tbody>\n",
       "</table>\n",
       "</div>"
      ],
      "text/plain": [
       "     id                        name  host_id host_name neighbourhood_group   \n",
       "0  2539  clean  quiet apt home park     2787      john            brooklyn  \\\n",
       "1  2595       skylit midtown castle     2845  jennifer           manhattan   \n",
       "\n",
       "  neighbourhood  latitude  longitude        room_type  price  minimum_nights   \n",
       "0    kensington  40.64749  -73.97237     private room    149               1  \\\n",
       "1       midtown  40.75362  -73.98377  entire home/apt    225               1   \n",
       "\n",
       "   number_of_reviews last_review  reviews_per_month   \n",
       "0                  9  2018-10-19               0.21  \\\n",
       "1                 45  2019-05-21               0.38   \n",
       "\n",
       "   calculated_host_listings_count  availability_365  z_latitude  z_longitude   \n",
       "0                               6               365   -1.493849    -0.444611  \\\n",
       "1                               2               355    0.452436    -0.694361   \n",
       "\n",
       "    z_price  \n",
       "0 -0.020398  \n",
       "1  0.294504  "
      ]
     },
     "execution_count": 58,
     "metadata": {},
     "output_type": "execute_result"
    }
   ],
   "source": [
    "df.head(2)"
   ]
  },
  {
   "cell_type": "markdown",
   "metadata": {
    "id": "d5EVQOKGhXIc"
   },
   "source": [
    "1. In this section, I have dealth with cleaning the text based columns such as name, host_name, neighbourhood_group and neighbourhood.\n",
    "2. I removed stopwords from the columns to concentrate on the more important words\n",
    "3. I also included a punctuation removal function\n",
    "4. I converted all these textual columns into lower case for easy handling."
   ]
  },
  {
   "cell_type": "markdown",
   "metadata": {
    "id": "ppapnty6iFVm"
   },
   "source": [
    "**COLUMN REMOVAL**"
   ]
  },
  {
   "cell_type": "code",
   "execution_count": 59,
   "metadata": {
    "colab": {
     "base_uri": "https://localhost:8080/"
    },
    "id": "wWCyGMzuiQH5",
    "outputId": "853aa2b5-7ab6-40ba-fe76-fd95f4a75cdb"
   },
   "outputs": [
    {
     "data": {
      "text/plain": [
       "Index(['id', 'name', 'host_id', 'host_name', 'neighbourhood_group',\n",
       "       'neighbourhood', 'latitude', 'longitude', 'room_type', 'price',\n",
       "       'minimum_nights', 'number_of_reviews', 'last_review',\n",
       "       'reviews_per_month', 'calculated_host_listings_count',\n",
       "       'availability_365', 'z_latitude', 'z_longitude', 'z_price'],\n",
       "      dtype='object')"
      ]
     },
     "execution_count": 59,
     "metadata": {},
     "output_type": "execute_result"
    }
   ],
   "source": [
    "df.columns"
   ]
  },
  {
   "cell_type": "code",
   "execution_count": 60,
   "metadata": {
    "id": "mtFoBZRhiH-M"
   },
   "outputs": [],
   "source": [
    "df=df.drop(['id'],axis=1)\n",
    "df=df.drop(['host_name'],axis=1)\n",
    "df=df.drop(['z_latitude'],axis=1)\n",
    "df=df.drop(['z_longitude'],axis=1)\n",
    "df=df.drop(['z_price'],axis=1)"
   ]
  },
  {
   "cell_type": "code",
   "execution_count": 61,
   "metadata": {
    "colab": {
     "base_uri": "https://localhost:8080/"
    },
    "id": "o4E9k-HaiRWh",
    "outputId": "dfe70559-123a-4df6-c6e3-1362bf8ef163"
   },
   "outputs": [
    {
     "data": {
      "text/plain": [
       "Index(['name', 'host_id', 'neighbourhood_group', 'neighbourhood', 'latitude',\n",
       "       'longitude', 'room_type', 'price', 'minimum_nights',\n",
       "       'number_of_reviews', 'last_review', 'reviews_per_month',\n",
       "       'calculated_host_listings_count', 'availability_365'],\n",
       "      dtype='object')"
      ]
     },
     "execution_count": 61,
     "metadata": {},
     "output_type": "execute_result"
    }
   ],
   "source": [
    "df.columns"
   ]
  },
  {
   "cell_type": "markdown",
   "metadata": {
    "id": "znMWMzWviTdW"
   },
   "source": [
    "1. in this section, I removed some columns of id, host_name, z_latitude, z_longitude and z_price as they dont play a major role in the upcoming cleaning process and have less contribution in the visualization process."
   ]
  },
  {
   "cell_type": "markdown",
   "metadata": {
    "id": "5JcFaOvPWTT_"
   },
   "source": [
    "**LABEL ENCODING**"
   ]
  },
  {
   "cell_type": "code",
   "execution_count": 62,
   "metadata": {
    "id": "4kht8qalGyI4"
   },
   "outputs": [],
   "source": [
    "le=LabelEncoder()"
   ]
  },
  {
   "cell_type": "code",
   "execution_count": 63,
   "metadata": {
    "id": "EAnHgOA2G5XN"
   },
   "outputs": [],
   "source": [
    "df['neighbourhood_group']=le.fit_transform(df['neighbourhood_group'])\n",
    "df['neighbourhood']=le.fit_transform(df['neighbourhood'])\n",
    "df['room_type']=le.fit_transform(df['room_type'])"
   ]
  },
  {
   "cell_type": "code",
   "execution_count": 64,
   "metadata": {
    "colab": {
     "base_uri": "https://localhost:8080/",
     "height": 236
    },
    "id": "3tQcWYG4HNqm",
    "outputId": "513cacba-3b6a-48c4-b07e-cdb1798e3f3e"
   },
   "outputs": [
    {
     "data": {
      "text/html": [
       "<div>\n",
       "<style scoped>\n",
       "    .dataframe tbody tr th:only-of-type {\n",
       "        vertical-align: middle;\n",
       "    }\n",
       "\n",
       "    .dataframe tbody tr th {\n",
       "        vertical-align: top;\n",
       "    }\n",
       "\n",
       "    .dataframe thead th {\n",
       "        text-align: right;\n",
       "    }\n",
       "</style>\n",
       "<table border=\"1\" class=\"dataframe\">\n",
       "  <thead>\n",
       "    <tr style=\"text-align: right;\">\n",
       "      <th></th>\n",
       "      <th>name</th>\n",
       "      <th>host_id</th>\n",
       "      <th>neighbourhood_group</th>\n",
       "      <th>neighbourhood</th>\n",
       "      <th>latitude</th>\n",
       "      <th>longitude</th>\n",
       "      <th>room_type</th>\n",
       "      <th>price</th>\n",
       "      <th>minimum_nights</th>\n",
       "      <th>number_of_reviews</th>\n",
       "      <th>last_review</th>\n",
       "      <th>reviews_per_month</th>\n",
       "      <th>calculated_host_listings_count</th>\n",
       "      <th>availability_365</th>\n",
       "    </tr>\n",
       "  </thead>\n",
       "  <tbody>\n",
       "    <tr>\n",
       "      <th>0</th>\n",
       "      <td>clean  quiet apt home park</td>\n",
       "      <td>2787</td>\n",
       "      <td>1</td>\n",
       "      <td>82</td>\n",
       "      <td>40.64749</td>\n",
       "      <td>-73.97237</td>\n",
       "      <td>1</td>\n",
       "      <td>149</td>\n",
       "      <td>1</td>\n",
       "      <td>9</td>\n",
       "      <td>2018-10-19</td>\n",
       "      <td>0.21</td>\n",
       "      <td>6</td>\n",
       "      <td>365</td>\n",
       "    </tr>\n",
       "    <tr>\n",
       "      <th>1</th>\n",
       "      <td>skylit midtown castle</td>\n",
       "      <td>2845</td>\n",
       "      <td>2</td>\n",
       "      <td>96</td>\n",
       "      <td>40.75362</td>\n",
       "      <td>-73.98377</td>\n",
       "      <td>0</td>\n",
       "      <td>225</td>\n",
       "      <td>1</td>\n",
       "      <td>45</td>\n",
       "      <td>2019-05-21</td>\n",
       "      <td>0.38</td>\n",
       "      <td>2</td>\n",
       "      <td>355</td>\n",
       "    </tr>\n",
       "  </tbody>\n",
       "</table>\n",
       "</div>"
      ],
      "text/plain": [
       "                         name  host_id  neighbourhood_group  neighbourhood   \n",
       "0  clean  quiet apt home park     2787                    1             82  \\\n",
       "1       skylit midtown castle     2845                    2             96   \n",
       "\n",
       "   latitude  longitude  room_type  price  minimum_nights  number_of_reviews   \n",
       "0  40.64749  -73.97237          1    149               1                  9  \\\n",
       "1  40.75362  -73.98377          0    225               1                 45   \n",
       "\n",
       "  last_review  reviews_per_month  calculated_host_listings_count   \n",
       "0  2018-10-19               0.21                               6  \\\n",
       "1  2019-05-21               0.38                               2   \n",
       "\n",
       "   availability_365  \n",
       "0               365  \n",
       "1               355  "
      ]
     },
     "execution_count": 64,
     "metadata": {},
     "output_type": "execute_result"
    }
   ],
   "source": [
    "df.head(2)"
   ]
  },
  {
   "cell_type": "code",
   "execution_count": 65,
   "metadata": {
    "colab": {
     "base_uri": "https://localhost:8080/"
    },
    "id": "vUd0l8O3J3Rr",
    "outputId": "a6aefb71-7f28-463c-8c05-38a9acdc7559"
   },
   "outputs": [
    {
     "data": {
      "text/plain": [
       "Index(['name', 'host_id', 'neighbourhood_group', 'neighbourhood', 'latitude',\n",
       "       'longitude', 'room_type', 'price', 'minimum_nights',\n",
       "       'number_of_reviews', 'last_review', 'reviews_per_month',\n",
       "       'calculated_host_listings_count', 'availability_365'],\n",
       "      dtype='object')"
      ]
     },
     "execution_count": 65,
     "metadata": {},
     "output_type": "execute_result"
    }
   ],
   "source": [
    "df.columns"
   ]
  },
  {
   "cell_type": "markdown",
   "metadata": {
    "id": "ELIMcK-eisvE"
   },
   "source": [
    "1. In this section, I focussed on converting many of the text based columns into numeric type using label encoding method to help in easy handling."
   ]
  },
  {
   "cell_type": "markdown",
   "metadata": {
    "id": "BBnDZmH-WdRf"
   },
   "source": [
    "**MIN MAX SCALING**"
   ]
  },
  {
   "cell_type": "code",
   "execution_count": 66,
   "metadata": {
    "id": "N5BgcTcuJnQc"
   },
   "outputs": [],
   "source": [
    "scaler=MinMaxScaler()"
   ]
  },
  {
   "cell_type": "code",
   "execution_count": 67,
   "metadata": {
    "id": "ja8zrwVvJuXs"
   },
   "outputs": [],
   "source": [
    "non_scaling_features=df.drop(['latitude','longitude','price', 'minimum_nights',\n",
    "       'number_of_reviews', 'reviews_per_month',\n",
    "       'calculated_host_listings_count', 'availability_365'],axis=1)\n",
    "scaling_features=df.drop(['name', 'host_id', 'neighbourhood_group', 'neighbourhood','room_type','last_review'],axis=1)\n",
    "\n"
   ]
  },
  {
   "cell_type": "code",
   "execution_count": 68,
   "metadata": {
    "colab": {
     "base_uri": "https://localhost:8080/"
    },
    "id": "xJOL2ycIKAIw",
    "outputId": "eba5d4d3-cad0-4744-f84a-129558b0fe47"
   },
   "outputs": [
    {
     "data": {
      "text/plain": [
       "array([['clean  quiet apt home park', 2787, 1, 82, 1,\n",
       "        Timestamp('2018-10-19 00:00:00')],\n",
       "       ['skylit midtown castle', 2845, 2, 96, 0,\n",
       "        Timestamp('2019-05-21 00:00:00')],\n",
       "       ['village harlem  new york ', 4632, 2, 74, 1,\n",
       "        Timestamp('2019-06-23 00:00:00')],\n",
       "       ...,\n",
       "       ['sunny studio historical neighborhood', 23492952, 2, 74, 0,\n",
       "        Timestamp('2019-06-23 00:00:00')],\n",
       "       ['43rd st time squarecozy single bed', 30985759, 2, 75, 2,\n",
       "        Timestamp('2019-06-23 00:00:00')],\n",
       "       ['trendy duplex heart hell s kitchen', 68119814, 2, 75, 1,\n",
       "        Timestamp('2019-06-23 00:00:00')]], dtype=object)"
      ]
     },
     "execution_count": 68,
     "metadata": {},
     "output_type": "execute_result"
    }
   ],
   "source": [
    "non_scaling_features.to_numpy()\n"
   ]
  },
  {
   "cell_type": "code",
   "execution_count": 69,
   "metadata": {
    "colab": {
     "base_uri": "https://localhost:8080/"
    },
    "id": "qVMBd9-2jD10",
    "outputId": "52271976-452d-4ce5-afa4-ae9f2b2fbda0"
   },
   "outputs": [
    {
     "data": {
      "text/plain": [
       "array([[ 4.064749e+01, -7.397237e+01,  1.490000e+02, ...,  2.100000e-01,\n",
       "         6.000000e+00,  3.650000e+02],\n",
       "       [ 4.075362e+01, -7.398377e+01,  2.250000e+02, ...,  3.800000e-01,\n",
       "         2.000000e+00,  3.550000e+02],\n",
       "       [ 4.080902e+01, -7.394190e+01,  1.500000e+02, ...,  1.373000e+00,\n",
       "         1.000000e+00,  3.650000e+02],\n",
       "       ...,\n",
       "       [ 4.081475e+01, -7.394867e+01,  1.150000e+02, ...,  1.373000e+00,\n",
       "         1.000000e+00,  2.700000e+01],\n",
       "       [ 4.075751e+01, -7.399112e+01,  5.500000e+01, ...,  1.373000e+00,\n",
       "         6.000000e+00,  2.000000e+00],\n",
       "       [ 4.076404e+01, -7.398933e+01,  9.000000e+01, ...,  1.373000e+00,\n",
       "         1.000000e+00,  2.300000e+01]])"
      ]
     },
     "execution_count": 69,
     "metadata": {},
     "output_type": "execute_result"
    }
   ],
   "source": [
    "scaling_features.to_numpy()"
   ]
  },
  {
   "cell_type": "code",
   "execution_count": 70,
   "metadata": {
    "id": "bySqclvGKLL9"
   },
   "outputs": [],
   "source": [
    "scaled_features=scaler.fit_transform(scaling_features)"
   ]
  },
  {
   "cell_type": "code",
   "execution_count": 71,
   "metadata": {
    "colab": {
     "base_uri": "https://localhost:8080/"
    },
    "id": "6kLxWwvkMIsJ",
    "outputId": "822e69aa-e49e-4584-e463-a996784708da"
   },
   "outputs": [
    {
     "data": {
      "text/plain": [
       "array([[0.25086394, 0.4258955 , 0.0149    , ..., 0.00341939, 0.01533742,\n",
       "        1.        ],\n",
       "       [0.57543044, 0.38426991, 0.0225    , ..., 0.00632587, 0.00306748,\n",
       "        0.97260274],\n",
       "       [0.74485458, 0.53715266, 0.015     , ..., 0.02330313, 0.        ,\n",
       "        1.        ],\n",
       "       ...,\n",
       "       [0.76237805, 0.51243291, 0.0115    , ..., 0.02330313, 0.        ,\n",
       "        0.0739726 ],\n",
       "       [0.58732683, 0.35743236, 0.0055    , ..., 0.02330313, 0.01533742,\n",
       "        0.00547945],\n",
       "       [0.60729686, 0.36396831, 0.009     , ..., 0.02330313, 0.        ,\n",
       "        0.0630137 ]])"
      ]
     },
     "execution_count": 71,
     "metadata": {},
     "output_type": "execute_result"
    }
   ],
   "source": [
    "scaled_features"
   ]
  },
  {
   "cell_type": "code",
   "execution_count": 72,
   "metadata": {
    "id": "XgYU6C2YMU9d"
   },
   "outputs": [],
   "source": [
    "df1=pd.DataFrame(scaled_features,columns=['latitude','longitude','price', 'minimum_nights',\n",
    "       'number_of_reviews', 'reviews_per_month',\n",
    "       'calculated_host_listings_count', 'availability_365'])"
   ]
  },
  {
   "cell_type": "code",
   "execution_count": 73,
   "metadata": {
    "colab": {
     "base_uri": "https://localhost:8080/",
     "height": 226
    },
    "id": "vjbueLirN3Kd",
    "outputId": "f9f39d86-166f-485e-8d11-ac3a56dfae9d"
   },
   "outputs": [
    {
     "data": {
      "text/html": [
       "<div>\n",
       "<style scoped>\n",
       "    .dataframe tbody tr th:only-of-type {\n",
       "        vertical-align: middle;\n",
       "    }\n",
       "\n",
       "    .dataframe tbody tr th {\n",
       "        vertical-align: top;\n",
       "    }\n",
       "\n",
       "    .dataframe thead th {\n",
       "        text-align: right;\n",
       "    }\n",
       "</style>\n",
       "<table border=\"1\" class=\"dataframe\">\n",
       "  <thead>\n",
       "    <tr style=\"text-align: right;\">\n",
       "      <th></th>\n",
       "      <th>latitude</th>\n",
       "      <th>longitude</th>\n",
       "      <th>price</th>\n",
       "      <th>minimum_nights</th>\n",
       "      <th>number_of_reviews</th>\n",
       "      <th>reviews_per_month</th>\n",
       "      <th>calculated_host_listings_count</th>\n",
       "      <th>availability_365</th>\n",
       "    </tr>\n",
       "  </thead>\n",
       "  <tbody>\n",
       "    <tr>\n",
       "      <th>0</th>\n",
       "      <td>0.250864</td>\n",
       "      <td>0.425895</td>\n",
       "      <td>0.0149</td>\n",
       "      <td>0.000000</td>\n",
       "      <td>0.014827</td>\n",
       "      <td>0.003419</td>\n",
       "      <td>0.015337</td>\n",
       "      <td>1.000000</td>\n",
       "    </tr>\n",
       "    <tr>\n",
       "      <th>1</th>\n",
       "      <td>0.575430</td>\n",
       "      <td>0.384270</td>\n",
       "      <td>0.0225</td>\n",
       "      <td>0.000000</td>\n",
       "      <td>0.074135</td>\n",
       "      <td>0.006326</td>\n",
       "      <td>0.003067</td>\n",
       "      <td>0.972603</td>\n",
       "    </tr>\n",
       "    <tr>\n",
       "      <th>2</th>\n",
       "      <td>0.744855</td>\n",
       "      <td>0.537153</td>\n",
       "      <td>0.0150</td>\n",
       "      <td>0.001601</td>\n",
       "      <td>0.000000</td>\n",
       "      <td>0.023303</td>\n",
       "      <td>0.000000</td>\n",
       "      <td>1.000000</td>\n",
       "    </tr>\n",
       "    <tr>\n",
       "      <th>3</th>\n",
       "      <td>0.366005</td>\n",
       "      <td>0.471939</td>\n",
       "      <td>0.0089</td>\n",
       "      <td>0.000000</td>\n",
       "      <td>0.444811</td>\n",
       "      <td>0.079159</td>\n",
       "      <td>0.000000</td>\n",
       "      <td>0.531507</td>\n",
       "    </tr>\n",
       "    <tr>\n",
       "      <th>4</th>\n",
       "      <td>0.712713</td>\n",
       "      <td>0.529521</td>\n",
       "      <td>0.0080</td>\n",
       "      <td>0.007206</td>\n",
       "      <td>0.014827</td>\n",
       "      <td>0.001539</td>\n",
       "      <td>0.000000</td>\n",
       "      <td>0.000000</td>\n",
       "    </tr>\n",
       "  </tbody>\n",
       "</table>\n",
       "</div>"
      ],
      "text/plain": [
       "   latitude  longitude   price  minimum_nights  number_of_reviews   \n",
       "0  0.250864   0.425895  0.0149        0.000000           0.014827  \\\n",
       "1  0.575430   0.384270  0.0225        0.000000           0.074135   \n",
       "2  0.744855   0.537153  0.0150        0.001601           0.000000   \n",
       "3  0.366005   0.471939  0.0089        0.000000           0.444811   \n",
       "4  0.712713   0.529521  0.0080        0.007206           0.014827   \n",
       "\n",
       "   reviews_per_month  calculated_host_listings_count  availability_365  \n",
       "0           0.003419                        0.015337          1.000000  \n",
       "1           0.006326                        0.003067          0.972603  \n",
       "2           0.023303                        0.000000          1.000000  \n",
       "3           0.079159                        0.000000          0.531507  \n",
       "4           0.001539                        0.000000          0.000000  "
      ]
     },
     "execution_count": 73,
     "metadata": {},
     "output_type": "execute_result"
    }
   ],
   "source": [
    "df1.head()"
   ]
  },
  {
   "cell_type": "code",
   "execution_count": 74,
   "metadata": {
    "id": "CkxPAGiIN-sp"
   },
   "outputs": [],
   "source": [
    "df2=pd.DataFrame(non_scaling_features,columns=['name', 'host_id', 'neighbourhood_group', 'neighbourhood','room_type','last_review'])"
   ]
  },
  {
   "cell_type": "code",
   "execution_count": 75,
   "metadata": {
    "colab": {
     "base_uri": "https://localhost:8080/",
     "height": 206
    },
    "id": "f5uNFz_MOei2",
    "outputId": "d16cd2ad-b8d7-4947-b1de-ef3a66e3d38e"
   },
   "outputs": [
    {
     "data": {
      "text/html": [
       "<div>\n",
       "<style scoped>\n",
       "    .dataframe tbody tr th:only-of-type {\n",
       "        vertical-align: middle;\n",
       "    }\n",
       "\n",
       "    .dataframe tbody tr th {\n",
       "        vertical-align: top;\n",
       "    }\n",
       "\n",
       "    .dataframe thead th {\n",
       "        text-align: right;\n",
       "    }\n",
       "</style>\n",
       "<table border=\"1\" class=\"dataframe\">\n",
       "  <thead>\n",
       "    <tr style=\"text-align: right;\">\n",
       "      <th></th>\n",
       "      <th>name</th>\n",
       "      <th>host_id</th>\n",
       "      <th>neighbourhood_group</th>\n",
       "      <th>neighbourhood</th>\n",
       "      <th>room_type</th>\n",
       "      <th>last_review</th>\n",
       "    </tr>\n",
       "  </thead>\n",
       "  <tbody>\n",
       "    <tr>\n",
       "      <th>0</th>\n",
       "      <td>clean  quiet apt home park</td>\n",
       "      <td>2787</td>\n",
       "      <td>1</td>\n",
       "      <td>82</td>\n",
       "      <td>1</td>\n",
       "      <td>2018-10-19</td>\n",
       "    </tr>\n",
       "    <tr>\n",
       "      <th>1</th>\n",
       "      <td>skylit midtown castle</td>\n",
       "      <td>2845</td>\n",
       "      <td>2</td>\n",
       "      <td>96</td>\n",
       "      <td>0</td>\n",
       "      <td>2019-05-21</td>\n",
       "    </tr>\n",
       "    <tr>\n",
       "      <th>2</th>\n",
       "      <td>village harlem  new york</td>\n",
       "      <td>4632</td>\n",
       "      <td>2</td>\n",
       "      <td>74</td>\n",
       "      <td>1</td>\n",
       "      <td>2019-06-23</td>\n",
       "    </tr>\n",
       "    <tr>\n",
       "      <th>3</th>\n",
       "      <td>cozy entire floor brownstone</td>\n",
       "      <td>4869</td>\n",
       "      <td>1</td>\n",
       "      <td>30</td>\n",
       "      <td>0</td>\n",
       "      <td>2019-07-05</td>\n",
       "    </tr>\n",
       "    <tr>\n",
       "      <th>4</th>\n",
       "      <td>entire apt  spacious studioloft central park</td>\n",
       "      <td>7192</td>\n",
       "      <td>2</td>\n",
       "      <td>49</td>\n",
       "      <td>0</td>\n",
       "      <td>2018-11-19</td>\n",
       "    </tr>\n",
       "  </tbody>\n",
       "</table>\n",
       "</div>"
      ],
      "text/plain": [
       "                                           name  host_id  neighbourhood_group   \n",
       "0                    clean  quiet apt home park     2787                    1  \\\n",
       "1                         skylit midtown castle     2845                    2   \n",
       "2                     village harlem  new york      4632                    2   \n",
       "3                  cozy entire floor brownstone     4869                    1   \n",
       "4  entire apt  spacious studioloft central park     7192                    2   \n",
       "\n",
       "   neighbourhood  room_type last_review  \n",
       "0             82          1  2018-10-19  \n",
       "1             96          0  2019-05-21  \n",
       "2             74          1  2019-06-23  \n",
       "3             30          0  2019-07-05  \n",
       "4             49          0  2018-11-19  "
      ]
     },
     "execution_count": 75,
     "metadata": {},
     "output_type": "execute_result"
    }
   ],
   "source": [
    "df2.head()"
   ]
  },
  {
   "cell_type": "code",
   "execution_count": 76,
   "metadata": {
    "id": "bmsrxUIUOf9N"
   },
   "outputs": [],
   "source": [
    "df=pd.concat([df2,df1],axis=1)"
   ]
  },
  {
   "cell_type": "code",
   "execution_count": 77,
   "metadata": {
    "colab": {
     "base_uri": "https://localhost:8080/",
     "height": 236
    },
    "id": "yyenFAiLOxb4",
    "outputId": "9a344d28-8f65-4bc2-b280-2d0d39371752"
   },
   "outputs": [
    {
     "data": {
      "text/html": [
       "<div>\n",
       "<style scoped>\n",
       "    .dataframe tbody tr th:only-of-type {\n",
       "        vertical-align: middle;\n",
       "    }\n",
       "\n",
       "    .dataframe tbody tr th {\n",
       "        vertical-align: top;\n",
       "    }\n",
       "\n",
       "    .dataframe thead th {\n",
       "        text-align: right;\n",
       "    }\n",
       "</style>\n",
       "<table border=\"1\" class=\"dataframe\">\n",
       "  <thead>\n",
       "    <tr style=\"text-align: right;\">\n",
       "      <th></th>\n",
       "      <th>name</th>\n",
       "      <th>host_id</th>\n",
       "      <th>neighbourhood_group</th>\n",
       "      <th>neighbourhood</th>\n",
       "      <th>room_type</th>\n",
       "      <th>last_review</th>\n",
       "      <th>latitude</th>\n",
       "      <th>longitude</th>\n",
       "      <th>price</th>\n",
       "      <th>minimum_nights</th>\n",
       "      <th>number_of_reviews</th>\n",
       "      <th>reviews_per_month</th>\n",
       "      <th>calculated_host_listings_count</th>\n",
       "      <th>availability_365</th>\n",
       "    </tr>\n",
       "  </thead>\n",
       "  <tbody>\n",
       "    <tr>\n",
       "      <th>0</th>\n",
       "      <td>clean  quiet apt home park</td>\n",
       "      <td>2787.0</td>\n",
       "      <td>1.0</td>\n",
       "      <td>82.0</td>\n",
       "      <td>1.0</td>\n",
       "      <td>2018-10-19</td>\n",
       "      <td>0.250864</td>\n",
       "      <td>0.425895</td>\n",
       "      <td>0.0149</td>\n",
       "      <td>0.0</td>\n",
       "      <td>0.014827</td>\n",
       "      <td>0.003419</td>\n",
       "      <td>0.015337</td>\n",
       "      <td>1.000000</td>\n",
       "    </tr>\n",
       "    <tr>\n",
       "      <th>1</th>\n",
       "      <td>skylit midtown castle</td>\n",
       "      <td>2845.0</td>\n",
       "      <td>2.0</td>\n",
       "      <td>96.0</td>\n",
       "      <td>0.0</td>\n",
       "      <td>2019-05-21</td>\n",
       "      <td>0.575430</td>\n",
       "      <td>0.384270</td>\n",
       "      <td>0.0225</td>\n",
       "      <td>0.0</td>\n",
       "      <td>0.074135</td>\n",
       "      <td>0.006326</td>\n",
       "      <td>0.003067</td>\n",
       "      <td>0.972603</td>\n",
       "    </tr>\n",
       "  </tbody>\n",
       "</table>\n",
       "</div>"
      ],
      "text/plain": [
       "                         name  host_id  neighbourhood_group  neighbourhood   \n",
       "0  clean  quiet apt home park   2787.0                  1.0           82.0  \\\n",
       "1       skylit midtown castle   2845.0                  2.0           96.0   \n",
       "\n",
       "   room_type last_review  latitude  longitude   price  minimum_nights   \n",
       "0        1.0  2018-10-19  0.250864   0.425895  0.0149             0.0  \\\n",
       "1        0.0  2019-05-21  0.575430   0.384270  0.0225             0.0   \n",
       "\n",
       "   number_of_reviews  reviews_per_month  calculated_host_listings_count   \n",
       "0           0.014827           0.003419                        0.015337  \\\n",
       "1           0.074135           0.006326                        0.003067   \n",
       "\n",
       "   availability_365  \n",
       "0          1.000000  \n",
       "1          0.972603  "
      ]
     },
     "execution_count": 77,
     "metadata": {},
     "output_type": "execute_result"
    }
   ],
   "source": [
    "df.head(2)"
   ]
  }
 ],
 "metadata": {
  "colab": {
   "provenance": []
  },
  "kernelspec": {
   "display_name": "Python 3 (ipykernel)",
   "language": "python",
   "name": "python3"
  },
  "language_info": {
   "codemirror_mode": {
    "name": "ipython",
    "version": 3
   },
   "file_extension": ".py",
   "mimetype": "text/x-python",
   "name": "python",
   "nbconvert_exporter": "python",
   "pygments_lexer": "ipython3",
   "version": "3.12.4"
  }
 },
 "nbformat": 4,
 "nbformat_minor": 4
}
